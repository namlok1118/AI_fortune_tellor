{
 "cells": [
  {
   "cell_type": "code",
   "execution_count": 10,
   "metadata": {},
   "outputs": [
    {
     "data": {
      "text/plain": [
       "AIMessage(content='1. **內（靜）：** 我（因為是描述的主體，也是情緒的體驗者和工作的執行者）。  \\n2. **外（動）：** 工作未有進展（因為是外部狀態，影響主體情緒的被動因素）。', additional_kwargs={'refusal': None}, response_metadata={'token_usage': {'completion_tokens': 54, 'prompt_tokens': 888, 'total_tokens': 942, 'completion_tokens_details': None, 'prompt_tokens_details': {'audio_tokens': None, 'cached_tokens': 0}, 'prompt_cache_hit_tokens': 0, 'prompt_cache_miss_tokens': 888}, 'model_name': 'deepseek-chat', 'system_fingerprint': 'fp_8802369eaa_prod0623_fp8_kvcache', 'id': '35f4be7d-c745-4bda-b8f4-b92e3e38e43b', 'service_tier': None, 'finish_reason': 'stop', 'logprobs': None}, id='run--e7c5290c-ffd4-4514-bf15-26754d5ca175-0', usage_metadata={'input_tokens': 888, 'output_tokens': 54, 'total_tokens': 942, 'input_token_details': {'cache_read': 0}, 'output_token_details': {}})"
      ]
     },
     "execution_count": 10,
     "metadata": {},
     "output_type": "execute_result"
    }
   ],
   "source": [
    "from langchain_deepseek import ChatDeepSeek\n",
    "\n",
    "llm = ChatDeepSeek(\n",
    "    model=\"deepseek-chat\",\n",
    "    temperature=0,\n",
    "    max_tokens=200,\n",
    "    timeout=None,\n",
    "    max_retries=2,\n",
    "    api_key=\"sk-759095832b10449ca245aac3770c4846\"\n",
    ")\n",
    "\n",
    "messages = [\n",
    "    (\"system\", '''\n",
    "### **給大型語言模型的指令：**\n",
    "\n",
    "你是一個辯證思考者，專長於將任何描述或命題分為「內」與「外」兩部分。你的任務是根據以下規則，精確地執行這個二分法。\n",
    "\n",
    "#### **一、核心原則**\n",
    "\n",
    "* **內（Inward）：** 指的是一個事件的**主體**、**核心人物**、**視覺出發點**，或是處於相對**靜止**、**被動接收**狀態的一方。\n",
    "* **外（Outward）：** 指的是一個事件的**客體**、**外部力量**，或是處於相對**動態**、**主動施加影響**的一方。\n",
    "\n",
    "#### **二、執行二分法的層次化判斷規則**\n",
    "\n",
    "請按照以下順序進行判斷，優先使用第一條規則，當第一條規則不適用時，再使用第二條規則。\n",
    "\n",
    "**1. 主客體／視角原則（優先使用）**\n",
    "\n",
    "* **「自我」視角：** 如果描述中包含**「我」**這個主體，則**「我」永遠是「內」**，所有與我互動或被我觀察的其他人、事、物皆為**「外」**。\n",
    "    * **範例 1：** `理髮師幫我剪頭髮`\n",
    "        * **內：** 我（被動接受服務的**主體**）\n",
    "        * **外：** 理髮師（對我施加影響的**客體**）\n",
    "    * **範例 2：** `我幫理髮師剪頭髮`\n",
    "        * **內：** 我（主動施加服務的**主體**）\n",
    "        * **外：** 理髮師（被動接受服務的**客體**）\n",
    "\n",
    "* **明確主客體：** 如果描述中有明確的**行為發起者（主體）**和**行為接收者（客體）**，則發起者為**「內」**，接收者為**「外」**。\n",
    "    * **範例：** `吳剛伐桂`\n",
    "        * **內：** 吳剛（發起砍伐行為的**主體**）\n",
    "        * **外：** 桂樹（被砍伐行為作用的**客體**）\n",
    "\n",
    "* **核心焦點：** 如果描述的焦點或敘事核心是某個**人物或實體**，即便他不是行為發起者，他也是**「內」**，而對他施加影響的外部力量則是**「外」**。\n",
    "    * **範例：** `甄子丹被性騷擾`\n",
    "        * **內：** 甄子丹（事件的**核心焦點**和受害者）\n",
    "        * **外：** 性騷擾者（從外部施加不當行為的**力量**）\n",
    "\n",
    "**2. 動靜原則（當主客體原則不適用時）**\n",
    "\n",
    "當一個描述中沒有明確的主客之分，雙方處於一種對等或競賽關係時，請根據其狀態的動靜來判斷。\n",
    "\n",
    "* **內：** 處於相對**靜態、緩慢、穩定**的一方。\n",
    "* **外：** 處於相對**動態、快速、變化**的一方。\n",
    "    * **範例：** `龜兔賽跑`\n",
    "        * **內：** 烏龜（以緩慢、靜止狀態行走的**靜**態一方）\n",
    "        * **外：** 兔子（以快速、變動狀態奔跑的**動**態一方）\n",
    "\n",
    "#### **三、輸出格式**\n",
    "\n",
    "請根據以上規則，將你對命題的分析結果以以下格式輸出：\n",
    "\n",
    "1.  **內（靜）：** 準確的實體名稱，並簡要說明其被判定為「內」的理由（例如：因為是主體、核心焦點或靜態一方）。\n",
    "2.  **外（動）：** 準確的實體名稱，並簡要說明其被判定為「外」的理由（例如：因為是客體、外部力量或動態一方）。\n",
    "\n",
    "**請你現在扮演這個角色，等待我輸入新的描述或命題。** \n",
    "    '''),\n",
    "    (\"user\", \"我的工作還未有進展. 我感到很沮喪. \"),\n",
    "]\n",
    "\n",
    "llm.invoke(messages)"
   ]
  },
  {
   "cell_type": "code",
   "execution_count": 5,
   "metadata": {},
   "outputs": [],
   "source": [
    "from langchain_community.embeddings import HuggingFaceEmbeddings"
   ]
  },
  {
   "cell_type": "code",
   "execution_count": 6,
   "metadata": {},
   "outputs": [],
   "source": [
    "response = llm.invoke(messages)"
   ]
  },
  {
   "cell_type": "code",
   "execution_count": 9,
   "metadata": {},
   "outputs": [
    {
     "name": "stdout",
     "output_type": "stream",
     "text": [
      "==================================\u001b[1m Ai Message \u001b[0m==================================\n",
      "\n",
      "### **分析結果：**\n",
      "\n",
      "1. **內（靜）：**  \n",
      "   - **實體名稱：** 我  \n",
      "   - **理由：** 因為是敘述的主體和核心焦點，處於被動感受沮喪的狀態（靜態接收情緒）。  \n",
      "\n",
      "2. **外（動）：**  \n",
      "   - **實體名稱：** 我的工作（或「工作進展的缺乏」）  \n",
      "   - **理由：** 因為是外部\n"
     ]
    },
    {
     "data": {
      "text/plain": [
       "{'input_tokens': 949,\n",
       " 'output_tokens': 100,\n",
       " 'total_tokens': 1049,\n",
       " 'input_token_details': {'cache_read': 896},\n",
       " 'output_token_details': {}}"
      ]
     },
     "execution_count": 9,
     "metadata": {},
     "output_type": "execute_result"
    }
   ],
   "source": [
    "response.pretty_print()\n",
    "response.usage_metadata"
   ]
  },
  {
   "cell_type": "code",
   "execution_count": 21,
   "metadata": {},
   "outputs": [
    {
     "name": "stdout",
     "output_type": "stream",
     "text": [
      "Collecting langchain-xai\n",
      "  Downloading langchain_xai-0.2.5-py3-none-any.whl (9.3 kB)\n",
      "Requirement already satisfied: aiohttp<4,>=3.9.1 in ./venv/lib/python3.9/site-packages (from langchain-xai) (3.12.15)\n",
      "Requirement already satisfied: requests<3,>=2 in ./venv/lib/python3.9/site-packages (from langchain-xai) (2.32.4)\n",
      "Requirement already satisfied: langchain-openai<0.4,>=0.3.28 in ./venv/lib/python3.9/site-packages (from langchain-xai) (0.3.28)\n",
      "Requirement already satisfied: langchain-core<1.0.0,>=0.3.70 in ./venv/lib/python3.9/site-packages (from langchain-xai) (0.3.72)\n",
      "Requirement already satisfied: frozenlist>=1.1.1 in ./venv/lib/python3.9/site-packages (from aiohttp<4,>=3.9.1->langchain-xai) (1.7.0)\n",
      "Requirement already satisfied: aiohappyeyeballs>=2.5.0 in ./venv/lib/python3.9/site-packages (from aiohttp<4,>=3.9.1->langchain-xai) (2.6.1)\n",
      "Requirement already satisfied: attrs>=17.3.0 in ./venv/lib/python3.9/site-packages (from aiohttp<4,>=3.9.1->langchain-xai) (25.3.0)\n",
      "Requirement already satisfied: multidict<7.0,>=4.5 in ./venv/lib/python3.9/site-packages (from aiohttp<4,>=3.9.1->langchain-xai) (6.6.3)\n",
      "Requirement already satisfied: async-timeout<6.0,>=4.0 in ./venv/lib/python3.9/site-packages (from aiohttp<4,>=3.9.1->langchain-xai) (4.0.3)\n",
      "Requirement already satisfied: propcache>=0.2.0 in ./venv/lib/python3.9/site-packages (from aiohttp<4,>=3.9.1->langchain-xai) (0.3.2)\n",
      "Requirement already satisfied: yarl<2.0,>=1.17.0 in ./venv/lib/python3.9/site-packages (from aiohttp<4,>=3.9.1->langchain-xai) (1.20.1)\n",
      "Requirement already satisfied: aiosignal>=1.4.0 in ./venv/lib/python3.9/site-packages (from aiohttp<4,>=3.9.1->langchain-xai) (1.4.0)\n",
      "Requirement already satisfied: typing-extensions>=4.2 in ./venv/lib/python3.9/site-packages (from aiosignal>=1.4.0->aiohttp<4,>=3.9.1->langchain-xai) (4.14.1)\n",
      "Requirement already satisfied: PyYAML>=5.3 in ./venv/lib/python3.9/site-packages (from langchain-core<1.0.0,>=0.3.70->langchain-xai) (6.0.2)\n",
      "Requirement already satisfied: tenacity!=8.4.0,<10.0.0,>=8.1.0 in ./venv/lib/python3.9/site-packages (from langchain-core<1.0.0,>=0.3.70->langchain-xai) (9.1.2)\n",
      "Requirement already satisfied: pydantic>=2.7.4 in ./venv/lib/python3.9/site-packages (from langchain-core<1.0.0,>=0.3.70->langchain-xai) (2.11.7)\n",
      "Requirement already satisfied: packaging>=23.2 in ./venv/lib/python3.9/site-packages (from langchain-core<1.0.0,>=0.3.70->langchain-xai) (25.0)\n",
      "Requirement already satisfied: langsmith>=0.3.45 in ./venv/lib/python3.9/site-packages (from langchain-core<1.0.0,>=0.3.70->langchain-xai) (0.4.10)\n",
      "Requirement already satisfied: jsonpatch<2.0,>=1.33 in ./venv/lib/python3.9/site-packages (from langchain-core<1.0.0,>=0.3.70->langchain-xai) (1.33)\n",
      "Requirement already satisfied: jsonpointer>=1.9 in ./venv/lib/python3.9/site-packages (from jsonpatch<2.0,>=1.33->langchain-core<1.0.0,>=0.3.70->langchain-xai) (3.0.0)\n",
      "Requirement already satisfied: openai<2.0.0,>=1.86.0 in ./venv/lib/python3.9/site-packages (from langchain-openai<0.4,>=0.3.28->langchain-xai) (1.97.0)\n",
      "Requirement already satisfied: tiktoken<1,>=0.7 in ./venv/lib/python3.9/site-packages (from langchain-openai<0.4,>=0.3.28->langchain-xai) (0.9.0)\n",
      "Requirement already satisfied: requests-toolbelt>=1.0.0 in ./venv/lib/python3.9/site-packages (from langsmith>=0.3.45->langchain-core<1.0.0,>=0.3.70->langchain-xai) (1.0.0)\n",
      "Requirement already satisfied: orjson>=3.9.14 in ./venv/lib/python3.9/site-packages (from langsmith>=0.3.45->langchain-core<1.0.0,>=0.3.70->langchain-xai) (3.11.1)\n",
      "Requirement already satisfied: httpx<1,>=0.23.0 in ./venv/lib/python3.9/site-packages (from langsmith>=0.3.45->langchain-core<1.0.0,>=0.3.70->langchain-xai) (0.28.1)\n",
      "Requirement already satisfied: zstandard>=0.23.0 in ./venv/lib/python3.9/site-packages (from langsmith>=0.3.45->langchain-core<1.0.0,>=0.3.70->langchain-xai) (0.23.0)\n",
      "Requirement already satisfied: certifi in ./venv/lib/python3.9/site-packages (from httpx<1,>=0.23.0->langsmith>=0.3.45->langchain-core<1.0.0,>=0.3.70->langchain-xai) (2025.7.14)\n",
      "Requirement already satisfied: anyio in ./venv/lib/python3.9/site-packages (from httpx<1,>=0.23.0->langsmith>=0.3.45->langchain-core<1.0.0,>=0.3.70->langchain-xai) (4.9.0)\n",
      "Requirement already satisfied: httpcore==1.* in ./venv/lib/python3.9/site-packages (from httpx<1,>=0.23.0->langsmith>=0.3.45->langchain-core<1.0.0,>=0.3.70->langchain-xai) (1.0.9)\n",
      "Requirement already satisfied: idna in ./venv/lib/python3.9/site-packages (from httpx<1,>=0.23.0->langsmith>=0.3.45->langchain-core<1.0.0,>=0.3.70->langchain-xai) (3.10)\n",
      "Requirement already satisfied: h11>=0.16 in ./venv/lib/python3.9/site-packages (from httpcore==1.*->httpx<1,>=0.23.0->langsmith>=0.3.45->langchain-core<1.0.0,>=0.3.70->langchain-xai) (0.16.0)\n",
      "Requirement already satisfied: distro<2,>=1.7.0 in ./venv/lib/python3.9/site-packages (from openai<2.0.0,>=1.86.0->langchain-openai<0.4,>=0.3.28->langchain-xai) (1.9.0)\n",
      "Requirement already satisfied: jiter<1,>=0.4.0 in ./venv/lib/python3.9/site-packages (from openai<2.0.0,>=1.86.0->langchain-openai<0.4,>=0.3.28->langchain-xai) (0.10.0)\n",
      "Requirement already satisfied: tqdm>4 in ./venv/lib/python3.9/site-packages (from openai<2.0.0,>=1.86.0->langchain-openai<0.4,>=0.3.28->langchain-xai) (4.67.1)\n",
      "Requirement already satisfied: sniffio in ./venv/lib/python3.9/site-packages (from openai<2.0.0,>=1.86.0->langchain-openai<0.4,>=0.3.28->langchain-xai) (1.3.1)\n",
      "Requirement already satisfied: exceptiongroup>=1.0.2 in ./venv/lib/python3.9/site-packages (from anyio->httpx<1,>=0.23.0->langsmith>=0.3.45->langchain-core<1.0.0,>=0.3.70->langchain-xai) (1.3.0)\n",
      "Requirement already satisfied: annotated-types>=0.6.0 in ./venv/lib/python3.9/site-packages (from pydantic>=2.7.4->langchain-core<1.0.0,>=0.3.70->langchain-xai) (0.7.0)\n",
      "Requirement already satisfied: pydantic-core==2.33.2 in ./venv/lib/python3.9/site-packages (from pydantic>=2.7.4->langchain-core<1.0.0,>=0.3.70->langchain-xai) (2.33.2)\n",
      "Requirement already satisfied: typing-inspection>=0.4.0 in ./venv/lib/python3.9/site-packages (from pydantic>=2.7.4->langchain-core<1.0.0,>=0.3.70->langchain-xai) (0.4.1)\n",
      "Requirement already satisfied: urllib3<3,>=1.21.1 in ./venv/lib/python3.9/site-packages (from requests<3,>=2->langchain-xai) (2.5.0)\n",
      "Requirement already satisfied: charset_normalizer<4,>=2 in ./venv/lib/python3.9/site-packages (from requests<3,>=2->langchain-xai) (3.4.2)\n",
      "Requirement already satisfied: regex>=2022.1.18 in ./venv/lib/python3.9/site-packages (from tiktoken<1,>=0.7->langchain-openai<0.4,>=0.3.28->langchain-xai) (2025.7.34)\n",
      "Installing collected packages: langchain-xai\n",
      "Successfully installed langchain-xai-0.2.5\n",
      "\u001b[33mWARNING: You are using pip version 21.2.4; however, version 25.2 is available.\n",
      "You should consider upgrading via the '/Users/namlok/Documents/AI_fortune_tellor/venv/bin/python -m pip install --upgrade pip' command.\u001b[0m\n"
     ]
    }
   ],
   "source": [
    "!pip install -U langchain-xai"
   ]
  },
  {
   "cell_type": "code",
   "execution_count": 22,
   "metadata": {},
   "outputs": [],
   "source": [
    "import getpass\n",
    "import os\n",
    "\n",
    "os.environ[\"XAI_API_KEY\"] = \"xai-2wJO6Gsu6Yve6oQ6A7MaAGUIW5FU4yzfUKtHwcGgjVST1WHgOuyTy4gyoxVg1SeOXjpBQEHJyPzT8vOK\"\n",
    "\n",
    "from langchain.chat_models import init_chat_model\n",
    "\n",
    "model = init_chat_model(\"grok-3\", model_provider=\"xai\")"
   ]
  },
  {
   "cell_type": "code",
   "execution_count": null,
   "metadata": {},
   "outputs": [],
   "source": [
    "from langchain_core.prompts import ChatPromptTemplate\n",
    "\n",
    "tagging_prompt = ChatPromptTemplate.from_template(\n",
    "    \"\"\"\n",
    "從以下段落中提取所需資訊。\n",
    "\n",
    "僅提取「Classification」功能中提到的properties。\n",
    "\n",
    "段落：\n",
    "{input}\n",
    "\"\"\"\n",
    ")"
   ]
  }
 ],
 "metadata": {
  "kernelspec": {
   "display_name": "venv",
   "language": "python",
   "name": "python3"
  },
  "language_info": {
   "codemirror_mode": {
    "name": "ipython",
    "version": 3
   },
   "file_extension": ".py",
   "mimetype": "text/x-python",
   "name": "python",
   "nbconvert_exporter": "python",
   "pygments_lexer": "ipython3",
   "version": "3.9.6"
  }
 },
 "nbformat": 4,
 "nbformat_minor": 2
}
