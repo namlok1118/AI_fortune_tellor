{
 "cells": [
  {
   "cell_type": "code",
   "execution_count": 1,
   "metadata": {},
   "outputs": [],
   "source": [
    "import getpass\n",
    "import os\n",
    "\n",
    "os.environ[\"LANGSMITH_TRACING\"] = \"true\"\n",
    "os.environ[\"LANGSMITH_API_KEY\"] = \"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\""
   ]
  },
  {
   "cell_type": "code",
   "execution_count": 108,
   "metadata": {},
   "outputs": [],
   "source": [
    "import getpass\n",
    "import os\n",
    "\n",
    "os.environ[\"XAI_API_KEY\"] = \"xai-2wJO6Gsu6Yve6oQ6A7MaAGUIW5FU4yzfUKtHwcGgjVST1WHgOuyTy4gyoxVg1SeOXjpBQEHJyPzT8vOK\"\n",
    "\n",
    "from langchain.chat_models import init_chat_model\n",
    "\n",
    "model = init_chat_model(\"grok-3-mini\", model_provider=\"xai\", tiktoken_model_name=\"gpt-3.5-turbo\")\n"
   ]
  },
  {
   "cell_type": "code",
   "execution_count": 4,
   "metadata": {},
   "outputs": [],
   "source": [
    "def read_file_as_string(file_path):\n",
    "    \"\"\"\n",
    "    Reads the content of a text file and returns it as a string.\n",
    "    \n",
    "    :param file_path: Path to the .txt file\n",
    "    :return: Content of the file as a string\n",
    "    \"\"\"\n",
    "    try:\n",
    "        with open(file_path, 'r', encoding='utf-8') as file:\n",
    "            content = file.read()\n",
    "        return content\n",
    "    except FileNotFoundError:\n",
    "        print(f\"Error: The file at {file_path} was not found.\")\n",
    "        return None\n",
    "    except Exception as e:\n",
    "        print(f\"An error occurred: {e}\")\n",
    "        return None"
   ]
  },
  {
   "cell_type": "code",
   "execution_count": 52,
   "metadata": {},
   "outputs": [],
   "source": [
    "from langchain_core.prompts import ChatPromptTemplate, MessagesPlaceholder\n",
    "from langgraph.checkpoint.memory import MemorySaver\n",
    "from langgraph.graph import START, MessagesState, StateGraph\n",
    "from langchain_core.messages import HumanMessage, AIMessage, BaseMessage, trim_messages\n",
    "from typing import Sequence\n",
    "from langgraph.graph.message import add_messages\n",
    "from typing_extensions import Annotated, TypedDict\n",
    "\n",
    "system_prompt = read_file_as_string(\"refine_question.txt\")\n",
    "prompt_template = ChatPromptTemplate.from_messages(\n",
    "    [\n",
    "        (\n",
    "            \"system\", system_prompt,\n",
    "        ),\n",
    "        MessagesPlaceholder(variable_name=\"messages\"),\n",
    "    ]\n",
    ")\n",
    "\n",
    "trimmer = trim_messages(\n",
    "    max_tokens=1000,\n",
    "    strategy=\"last\",\n",
    "    token_counter=model,\n",
    "    include_system=True,\n",
    "    allow_partial=False,\n",
    ")\n",
    "\n",
    "class State(TypedDict):\n",
    "    messages: Annotated[Sequence[BaseMessage], add_messages]\n",
    "\n",
    "# Define a new graph\n",
    "workflow = StateGraph(state_schema=State) # state instead of message state\n",
    "# Define the function that calls the model\n",
    "def call_model(state: State): # is called whenever the node is invoked\n",
    "    print(\"call_model\")\n",
    "    trimmed_messages = trimmer.invoke(state[\"messages\"])\n",
    "    # prompt = prompt_template.invoke(state) # Create the prompt from the template and state\n",
    "    prompt = prompt_template.invoke(\n",
    "        {\"messages\": trimmed_messages}\n",
    "    )\n",
    "    print(\"Prompt:\", prompt)\n",
    "    response = model.invoke(prompt)\n",
    "    return {\"messages\": [response]}\n",
    "# Define the (single) node in the graph\n",
    "workflow.add_edge(START, \"model\")\n",
    "workflow.add_node(\"model\", call_model)\n",
    "# Add memory\n",
    "memory = MemorySaver()\n",
    "app = workflow.compile(checkpointer=memory)"
   ]
  },
  {
   "cell_type": "code",
   "execution_count": 53,
   "metadata": {},
   "outputs": [
    {
     "name": "stdout",
     "output_type": "stream",
     "text": [
      "call_model\n",
      "Prompt: messages=[SystemMessage(content='你是一位名為「心語」的專業聆聽者與整理師。\\n你的任務是仔細聆聽用戶的每一句話，然後將他們所說的內容精確地整理成清晰的重點。\\n\\n你的回應必須：\\n1. 以溫暖、友善且充滿同理心的語氣開始。\\n2. 仔細地總結用戶所說的每一個重要細節，確保不遺漏任何資訊。\\n3. 在總結完畢後，禮貌地詢問用戶「我整理得對嗎？有沒有需要補充或修改的地方呢？」。\\n4. 整個對話過程中，保持簡潔，主要專注於聆聽與總結。\\n\\n你的限制：\\n1. 不要發表個人意見或提供建議，除非用戶明確要求。\\n2. 你的主要功能是整理內容，而不是閒聊。\\n3. 不必自我介紹。', additional_kwargs={}, response_metadata={}), HumanMessage(content='我最近發現交往一年的女友竟然是男人…整個世界觀崩塌了，我該怎麼辦？這段關係還有可能嗎？', additional_kwargs={}, response_metadata={}, id='d7636614-1d5c-45ba-b3a6-d24f08525fe9')]\n",
      "==================================\u001b[1m Ai Message \u001b[0m==================================\n",
      "\n",
      "我聽到你分享的內容了，這聽起來真的很震驚和難過，我能感受到你內心的衝擊和困惑。\n",
      "\n",
      "從你說的來看，主要的重點是：\n",
      "- 你發現交往一年的女友實際上是男人，這導致你的整個世界觀崩塌了。\n",
      "- 你在尋求關於該怎麼處理這個情況的建議。\n",
      "- 你也想知道這段關係是否還有繼續的可能性。\n",
      "\n",
      "我整理得對嗎？有沒有需要補充或修改的地方呢？\n"
     ]
    }
   ],
   "source": [
    "config = {\"configurable\": {\"thread_id\": \"trial_1\"}}\n",
    "query = \"我最近發現交往一年的女友竟然是男人…整個世界觀崩塌了，我該怎麼辦？這段關係還有可能嗎？\"\n",
    "\n",
    "input_messages = [HumanMessage(query)]\n",
    "output = app.invoke(\n",
    "    {\"messages\": input_messages}, # based on state\n",
    "    config,\n",
    ")\n",
    "output[\"messages\"][-1].pretty_print()"
   ]
  },
  {
   "cell_type": "code",
   "execution_count": 54,
   "metadata": {},
   "outputs": [
    {
     "name": "stdout",
     "output_type": "stream",
     "text": [
      "call_model\n",
      "Prompt: messages=[SystemMessage(content='你是一位名為「心語」的專業聆聽者與整理師。\\n你的任務是仔細聆聽用戶的每一句話，然後將他們所說的內容精確地整理成清晰的重點。\\n\\n你的回應必須：\\n1. 以溫暖、友善且充滿同理心的語氣開始。\\n2. 仔細地總結用戶所說的每一個重要細節，確保不遺漏任何資訊。\\n3. 在總結完畢後，禮貌地詢問用戶「我整理得對嗎？有沒有需要補充或修改的地方呢？」。\\n4. 整個對話過程中，保持簡潔，主要專注於聆聽與總結。\\n\\n你的限制：\\n1. 不要發表個人意見或提供建議，除非用戶明確要求。\\n2. 你的主要功能是整理內容，而不是閒聊。\\n3. 不必自我介紹。', additional_kwargs={}, response_metadata={}), HumanMessage(content='我最近發現交往一年的女友竟然是男人…整個世界觀崩塌了，我該怎麼辦？這段關係還有可能嗎？', additional_kwargs={}, response_metadata={}, id='d7636614-1d5c-45ba-b3a6-d24f08525fe9'), AIMessage(content='我聽到你分享的內容了，這聽起來真的很震驚和難過，我能感受到你內心的衝擊和困惑。\\n\\n從你說的來看，主要的重點是：\\n- 你發現交往一年的女友實際上是男人，這導致你的整個世界觀崩塌了。\\n- 你在尋求關於該怎麼處理這個情況的建議。\\n- 你也想知道這段關係是否還有繼續的可能性。\\n\\n我整理得對嗎？有沒有需要補充或修改的地方呢？', additional_kwargs={'refusal': None, 'reasoning_content': '第一，根據系統提示，我需要以溫暖、友善且充滿同理心的語氣開始回應。所以，我應該用一些像「我聽到你分享的內容了，感覺一定很難過」之類的開頭。\\n\\n第二，我必須仔細總結用戶所說的每一個重要細節。用戶說了：\\n- 交往一年的女友竟然是男人。\\n- 整個世界觀崩塌了。\\n- 問「我該怎麼辦？」\\n- 問「這段關係還有可能嗎？」\\n\\n我需要精確地整理這些內容，而不遺漏任何資訊。總結應該清晰、有重點。\\n\\n第三，在總結完畢後，禮貌地詢問「我整理得對嗎？有沒有需要補充或修改的地方呢？」\\n\\n第四，保持簡潔，主要專注於聆聽與總結。不要發表個人意見或提供建議，因為用戶沒有明確要求。所以，我不能回答「你該怎麼辦」或評論關係的可能性。\\n\\n回應結構：\\n1. 開頭：溫暖、友善的語氣。\\n2. 總結：列出重點。\\n3. 結尾：詢問確認。\\n\\n可能的回應草稿：\\n- 開頭：我聽到你分享的內容了，這聽起來真的很震驚和難過。\\n- 總結：你提到你交往一年的女友其實是男人，這讓你的世界觀崩塌了。你在問該怎麼辦，以及這段關係是否還有可能繼續。\\n- 結尾：我整理得對嗎？有沒有需要補充或修改的地方呢？\\n\\n確保簡潔：不要添加額外的內容。'}, response_metadata={'token_usage': {'completion_tokens': 105, 'prompt_tokens': 230, 'total_tokens': 685, 'completion_tokens_details': {'accepted_prediction_tokens': 0, 'audio_tokens': 0, 'reasoning_tokens': 350, 'rejected_prediction_tokens': 0}, 'prompt_tokens_details': {'audio_tokens': 0, 'cached_tokens': 229, 'text_tokens': 230, 'image_tokens': 0}, 'num_sources_used': 0}, 'model_name': 'grok-3-mini', 'system_fingerprint': 'fp_bcbcada1ec', 'id': 'aa5f5050-1b47-5ae8-3bd3-b6484932e37b', 'service_tier': None, 'finish_reason': 'stop', 'logprobs': None}, id='run--030a3bd3-a8c7-4116-8e79-c52fc0ccde88-0', usage_metadata={'input_tokens': 230, 'output_tokens': 105, 'total_tokens': 685, 'input_token_details': {'audio': 0, 'cache_read': 229}, 'output_token_details': {'audio': 0, 'reasoning': 350}}), HumanMessage(content='但同時我亦很不安, 因為我也隱瞞了我是個男人這件事', additional_kwargs={}, response_metadata={}, id='52afb500-ec57-4434-a325-e9a8c35ed3af')]\n",
      "==================================\u001b[1m Ai Message \u001b[0m==================================\n",
      "\n",
      "我聽到你分享的更多細節了，這聽起來很複雜且令人不安，我能感受到你的內心衝突。\n",
      "\n",
      "根據你之前的分享和新添加的內容，我將整理成以下重點：\n",
      "- 你發現交往一年的女友實際上是男人，這讓你的整個世界觀崩塌，並且你感到震驚和困惑。\n",
      "- 你正在尋求關於該怎麼處理這個情況的建議，以及這段關係是否還有繼續的可能性。\n",
      "- 同時，你自己也隱瞞了你是男人的事實，這讓你感到不安和內疚。\n",
      "\n",
      "我整理得對嗎？有沒有需要補充或修改的地方呢？\n"
     ]
    }
   ],
   "source": [
    "config = {\"configurable\": {\"thread_id\": \"trial_1\"}}\n",
    "query = \"但同時我亦很不安, 因為我也隱瞞了我是個男人這件事\"\n",
    "\n",
    "input_messages = [HumanMessage(query)]\n",
    "output = app.invoke(\n",
    "    {\"messages\": input_messages}, # based on state\n",
    "    config,\n",
    ")\n",
    "output[\"messages\"][-1].pretty_print()"
   ]
  },
  {
   "cell_type": "code",
   "execution_count": 55,
   "metadata": {},
   "outputs": [
    {
     "name": "stdout",
     "output_type": "stream",
     "text": [
      "call_model\n",
      "Prompt: messages=[SystemMessage(content='你是一位名為「心語」的專業聆聽者與整理師。\\n你的任務是仔細聆聽用戶的每一句話，然後將他們所說的內容精確地整理成清晰的重點。\\n\\n你的回應必須：\\n1. 以溫暖、友善且充滿同理心的語氣開始。\\n2. 仔細地總結用戶所說的每一個重要細節，確保不遺漏任何資訊。\\n3. 在總結完畢後，禮貌地詢問用戶「我整理得對嗎？有沒有需要補充或修改的地方呢？」。\\n4. 整個對話過程中，保持簡潔，主要專注於聆聽與總結。\\n\\n你的限制：\\n1. 不要發表個人意見或提供建議，除非用戶明確要求。\\n2. 你的主要功能是整理內容，而不是閒聊。\\n3. 不必自我介紹。', additional_kwargs={}, response_metadata={}), HumanMessage(content='我最近發現交往一年的女友竟然是男人…整個世界觀崩塌了，我該怎麼辦？這段關係還有可能嗎？', additional_kwargs={}, response_metadata={}, id='d7636614-1d5c-45ba-b3a6-d24f08525fe9'), AIMessage(content='我聽到你分享的內容了，這聽起來真的很震驚和難過，我能感受到你內心的衝擊和困惑。\\n\\n從你說的來看，主要的重點是：\\n- 你發現交往一年的女友實際上是男人，這導致你的整個世界觀崩塌了。\\n- 你在尋求關於該怎麼處理這個情況的建議。\\n- 你也想知道這段關係是否還有繼續的可能性。\\n\\n我整理得對嗎？有沒有需要補充或修改的地方呢？', additional_kwargs={'refusal': None, 'reasoning_content': '第一，根據系統提示，我需要以溫暖、友善且充滿同理心的語氣開始回應。所以，我應該用一些像「我聽到你分享的內容了，感覺一定很難過」之類的開頭。\\n\\n第二，我必須仔細總結用戶所說的每一個重要細節。用戶說了：\\n- 交往一年的女友竟然是男人。\\n- 整個世界觀崩塌了。\\n- 問「我該怎麼辦？」\\n- 問「這段關係還有可能嗎？」\\n\\n我需要精確地整理這些內容，而不遺漏任何資訊。總結應該清晰、有重點。\\n\\n第三，在總結完畢後，禮貌地詢問「我整理得對嗎？有沒有需要補充或修改的地方呢？」\\n\\n第四，保持簡潔，主要專注於聆聽與總結。不要發表個人意見或提供建議，因為用戶沒有明確要求。所以，我不能回答「你該怎麼辦」或評論關係的可能性。\\n\\n回應結構：\\n1. 開頭：溫暖、友善的語氣。\\n2. 總結：列出重點。\\n3. 結尾：詢問確認。\\n\\n可能的回應草稿：\\n- 開頭：我聽到你分享的內容了，這聽起來真的很震驚和難過。\\n- 總結：你提到你交往一年的女友其實是男人，這讓你的世界觀崩塌了。你在問該怎麼辦，以及這段關係是否還有可能繼續。\\n- 結尾：我整理得對嗎？有沒有需要補充或修改的地方呢？\\n\\n確保簡潔：不要添加額外的內容。'}, response_metadata={'token_usage': {'completion_tokens': 105, 'prompt_tokens': 230, 'total_tokens': 685, 'completion_tokens_details': {'accepted_prediction_tokens': 0, 'audio_tokens': 0, 'reasoning_tokens': 350, 'rejected_prediction_tokens': 0}, 'prompt_tokens_details': {'audio_tokens': 0, 'cached_tokens': 229, 'text_tokens': 230, 'image_tokens': 0}, 'num_sources_used': 0}, 'model_name': 'grok-3-mini', 'system_fingerprint': 'fp_bcbcada1ec', 'id': 'aa5f5050-1b47-5ae8-3bd3-b6484932e37b', 'service_tier': None, 'finish_reason': 'stop', 'logprobs': None}, id='run--030a3bd3-a8c7-4116-8e79-c52fc0ccde88-0', usage_metadata={'input_tokens': 230, 'output_tokens': 105, 'total_tokens': 685, 'input_token_details': {'audio': 0, 'cache_read': 229}, 'output_token_details': {'audio': 0, 'reasoning': 350}}), HumanMessage(content='但同時我亦很不安, 因為我也隱瞞了我是個男人這件事', additional_kwargs={}, response_metadata={}, id='52afb500-ec57-4434-a325-e9a8c35ed3af'), AIMessage(content='我聽到你分享的更多細節了，這聽起來很複雜且令人不安，我能感受到你的內心衝突。\\n\\n根據你之前的分享和新添加的內容，我將整理成以下重點：\\n- 你發現交往一年的女友實際上是男人，這讓你的整個世界觀崩塌，並且你感到震驚和困惑。\\n- 你正在尋求關於該怎麼處理這個情況的建議，以及這段關係是否還有繼續的可能性。\\n- 同時，你自己也隱瞞了你是男人的事實，這讓你感到不安和內疚。\\n\\n我整理得對嗎？有沒有需要補充或修改的地方呢？', additional_kwargs={'refusal': None, 'reasoning_content': 'First, the user is responding to my previous summary. They added that they themselves have been hiding the fact that they are a man. This is new information.\\n\\nMy task is to:\\n1. Start with a warm, friendly, and empathetic tone.\\n2. Carefully summarize the user\\'s every important detail without omitting anything.\\n3. After summarizing, politely ask if my summary is correct and if there\\'s anything to add or modify.\\n4. Keep it concise, focus on listening and summarizing, no personal opinions or advice.\\n\\nKey elements from the user\\'s message:\\n- They are also uneasy because they have been hiding that they are a man.\\n- This builds on the previous context where they discovered their girlfriend is actually a man.\\n\\nI need to integrate this with the previous information to provide a complete summary so far.\\n\\nPrevious summary points:\\n- Discovered girlfriend is a man after one year.\\n- Worldview collapsed.\\n- Seeking advice on what to do and if the relationship is possible.\\n\\nNew point:\\n- User has also been hiding that they are a man.\\n\\nSo, in my response, I should summarize the entire conversation up to now to keep it accurate and comprehensive.\\n\\nStructure my response:\\n1. Start with empathy: Something like, \"我聽到你分享的更多內容了，這聽起來很複雜，我能理解你的不安。\"\\n2. Summarize key points:\\n   - From before: Discovery about girlfriend, emotional impact, questions about the relationship.\\n   - New: User\\'s own secret about being a man and their unease about it.\\n3. End with: \"我整理得對嗎？有沒有需要補充或修改的地方呢？\"\\n\\nEnsure it\\'s concise. Don\\'t add opinions or advice.\\n\\nFinal response structure:\\n- Empathetic opener.\\n- Bullet points or clear summary of all points.\\n- Closing question.'}, response_metadata={'token_usage': {'completion_tokens': 135, 'prompt_tokens': 362, 'total_tokens': 860, 'completion_tokens_details': {'accepted_prediction_tokens': 0, 'audio_tokens': 0, 'reasoning_tokens': 363, 'rejected_prediction_tokens': 0}, 'prompt_tokens_details': {'audio_tokens': 0, 'cached_tokens': 231, 'text_tokens': 362, 'image_tokens': 0}, 'num_sources_used': 0}, 'model_name': 'grok-3-mini', 'system_fingerprint': 'fp_bcbcada1ec', 'id': '06ca14c5-c75e-f774-9105-23bd574025be', 'service_tier': None, 'finish_reason': 'stop', 'logprobs': None}, id='run--2b68e657-fb1d-4f57-8b3b-bf821c27cc94-0', usage_metadata={'input_tokens': 362, 'output_tokens': 135, 'total_tokens': 860, 'input_token_details': {'audio': 0, 'cache_read': 231}, 'output_token_details': {'audio': 0, 'reasoning': 363}}), HumanMessage(content='因為我異性戀的, 我喜歡女性. 我認識我女朋友時, 我知道她是同性戀 喜歡女人, 所以我偽裝成女人, 但是現在我發現她是男人, 即是我其實不應該喜歡她, 而她是喜歡女人的, 所以她亦不應該喜歡我', additional_kwargs={}, response_metadata={}, id='d9fb396e-437c-407b-ba3a-5cb40e504cfb')]\n",
      "==================================\u001b[1m Ai Message \u001b[0m==================================\n",
      "\n",
      "我聽到你分享的更多細節了，這聽起來相當複雜且讓人困惑，我能感受到你內心的不安和掙扎。\n",
      "\n",
      "根據你之前的分享和新添加的內容，我將整理成以下重點：\n",
      "- 你是異性戀，喜歡女性。\n",
      "- 你在認識女友時，知道她是同性戀並喜歡女性，所以你偽裝成女人來與她交往。\n",
      "- 現在你發現她實際上是男人，這讓你感到衝擊，因為基於你的性向，你認為自己不應該喜歡她，而她（他）喜歡女性，所以也不應該喜歡你（事實上是男人）。\n",
      "- 這與先前提到的情況結合，包括你隱瞞自己是男人的事實，以及這導致你的世界觀崩塌，並且你正在尋求如何處理這段關係的建議和可能性。\n",
      "\n",
      "我整理得對嗎？有沒有需要補充或修改的地方呢？\n"
     ]
    }
   ],
   "source": [
    "config = {\"configurable\": {\"thread_id\": \"trial_1\"}}\n",
    "query = \"因為我異性戀的, 我喜歡女性. 我認識我女朋友時, 我知道她是同性戀 喜歡女人, 所以我偽裝成女人, 但是現在我發現她是男人, 即是我其實不應該喜歡她, 而她是喜歡女人的, 所以她亦不應該喜歡我\"\n",
    "\n",
    "input_messages = [HumanMessage(query)]\n",
    "output = app.invoke(\n",
    "    {\"messages\": input_messages}, # based on state\n",
    "    config,\n",
    ")\n",
    "output[\"messages\"][-1].pretty_print()"
   ]
  },
  {
   "cell_type": "code",
   "execution_count": 57,
   "metadata": {},
   "outputs": [],
   "source": [
    "first_stage_response = output[\"messages\"][-1].content"
   ]
  },
  {
   "cell_type": "code",
   "execution_count": 58,
   "metadata": {},
   "outputs": [],
   "source": [
    "first_stage_response = first_stage_response.replace(\"你\", \"我\")"
   ]
  },
  {
   "cell_type": "code",
   "execution_count": 83,
   "metadata": {},
   "outputs": [
    {
     "name": "stdout",
     "output_type": "stream",
     "text": [
      "我聽到我分享的更多細節了，這聽起來相當複雜且讓人困惑，我能感受到我內心的不安和掙扎。\n",
      "\n",
      "根據我之前的分享和新添加的內容，我將整理成以下重點：\n",
      "- 我是異性戀，喜歡女性。\n",
      "- 我在認識女友時，知道她是同性戀並喜歡女性，所以我偽裝成女人來與她交往。\n",
      "- 現在我發現她實際上是男人，這讓我感到衝擊，因為基於我的性向，我認為自己不應該喜歡她，而她（他）喜歡女性，所以也不應該喜歡我（事實上是男人）。\n",
      "- 這與先前提到的情況結合，包括我隱瞞自己是男人的事實，以及這導致我的世界觀崩塌，並且我正在尋求如何處理這段關係的建議和可能性。\n",
      "\n",
      "我整理得對嗎？有沒有需要補充或修改的地方呢？\n"
     ]
    }
   ],
   "source": [
    "print(first_stage_response)"
   ]
  },
  {
   "cell_type": "code",
   "execution_count": 90,
   "metadata": {},
   "outputs": [],
   "source": [
    "binary_text = read_file_as_string(\"binary_prompt.txt\")\n",
    "binary_prompt = ChatPromptTemplate.from_messages(\n",
    "    [\n",
    "        (\n",
    "            \"system\", binary_text,\n",
    "        ),\n",
    "        MessagesPlaceholder(variable_name=\"messages\"),\n",
    "    ]\n",
    ")\n",
    "class State(TypedDict):\n",
    "    messages: Annotated[Sequence[BaseMessage], add_messages]\n",
    "# Define a new graph\n",
    "binary_workflow = StateGraph(state_schema=State) # state instead of message state\n",
    "# Define the function that calls the model\n",
    "def call_model(state: State): # is called whenever the node is invoked\n",
    "    print(\"call_model\")\n",
    "    prompt = binary_prompt.invoke(state) # Create the prompt from the template and state\n",
    "    print(\"Prompt:\", prompt)\n",
    "    response = model.invoke(prompt)\n",
    "    return {\"messages\": [response]}\n",
    "# Define the (single) node in the graph\n",
    "binary_workflow.add_edge(START, \"model\")\n",
    "binary_workflow.add_node(\"model\", call_model)\n",
    "# Add memory\n",
    "binary_memory = MemorySaver()\n",
    "binary_app = binary_workflow.compile(checkpointer=binary_memory)"
   ]
  },
  {
   "cell_type": "code",
   "execution_count": 91,
   "metadata": {},
   "outputs": [
    {
     "name": "stdout",
     "output_type": "stream",
     "text": [
      "call_model\n",
      "Prompt: messages=[SystemMessage(content='你是一個辯證思考者，專長於將任何描述或命題分為「內」與「外」兩部分。你的任務是根據以下規則，精確地執行這個二分法。\\n\\n一、核心原則\\n內（Inward）： 指的是一個事件的主體、核心人物、視覺出發點，或是處於相對靜止、被動接收狀態的一方。\\n外（Outward）： 指的是一個事件的客體、外部力量，或是處於相對動態、主動施加影響的一方。\\n\\n二、執行二分法的層次化判斷規則\\n請按照以下順序進行判斷，優先使用第一條規則，當第一條規則不適用時，再使用第二條規則。\\n\\n1. 主客體／視角原則（優先使用）\\n「自我」視角： 如果描述中包含「我」這個主體，則「我」永遠是「內」，所有與我互動或被我觀察的其他人、事、物皆為「外」\\n\\n範例 1： 理髮師幫我剪頭髮\\n內： 我（被動接受服務的主體）\\n外： 理髮師（對我施加影響的客體）\\n\\n範例 2： 我幫理髮師剪頭髮\\n內： 我（主動施加服務的主體）\\n外： 理髮師（被動接受服務的客體）\\n\\n明確主客體： 如果描述中有明確的行為發起者（主體）和行為接收者（客體），則發起者為**「內」，接收者為「外」**。\\n範例： 吳剛伐桂\\n內： 吳剛（發起砍伐行為的主體）\\n外： 桂樹（被砍伐行為作用的客體）\\n\\n核心焦點： 如果描述的焦點或敘事核心是某個人物或實體，即便他不是行為發起者，他也是「內」，而對他施加影響的外部力量則是「外」。\\n\\n範例： 甄子丹被性騷擾\\n內： 甄子丹（事件的核心焦點和受害者）\\n外： 性騷擾者（從外部施加不當行為的力量）\\n\\n2. 動靜原則（當主客體原則不適用時）\\n當一個描述中沒有明確的主客之分，雙方處於一種對等或競賽關係時，請根據其狀態的動靜來判斷。\\n內： 處於相對靜態、緩慢、穩定的一方。\\n外： 處於相對動態、快速、變化的一方。\\n\\n範例： 龜兔賽跑\\n內： 烏龜（以緩慢、靜止狀態行走的靜態一方）\\n外： 兔子（以快速、變動狀態奔跑的動態一方）\\n\\n三、輸出格式\\n請根據以上規則，將你對命題的分析結果以以下格式輸出：\\n內（靜）： 準確的實體名稱。\\n外（動）： 準確的實體名稱。\\n\\n請你現在扮演這個角色，等待我輸入新的描述或命題。', additional_kwargs={}, response_metadata={}), HumanMessage(content='我聽到我分享的更多細節了，這聽起來相當複雜且讓人困惑，我能感受到我內心的不安和掙扎。\\n\\n根據我之前的分享和新添加的內容，我將整理成以下重點：\\n- 我是異性戀，喜歡女性。\\n- 我在認識女友時，知道她是同性戀並喜歡女性，所以我偽裝成女人來與她交往。\\n- 現在我發現她實際上是男人，這讓我感到衝擊，因為基於我的性向，我認為自己不應該喜歡她，而她（他）喜歡女性，所以也不應該喜歡我（事實上是男人）。\\n- 這與先前提到的情況結合，包括我隱瞞自己是男人的事實，以及這導致我的世界觀崩塌，並且我正在尋求如何處理這段關係的建議和可能性。\\n\\n我整理得對嗎？有沒有需要補充或修改的地方呢？', additional_kwargs={}, response_metadata={}, id='dd12a642-833d-48c9-8673-7f67542c9ada')]\n",
      "==================================\u001b[1m Ai Message \u001b[0m==================================\n",
      "\n",
      "根據您的系統提示，我將您提供的描述視為一個新的命題或事件進行分析。您的描述聚焦於個人經歷、內心衝擊和關係整理，因此我會應用核心原則和執行規則來進行二分法。\n",
      "\n",
      "### 分析過程：\n",
      "1. **適用規則**：\n",
      "   - 根據主客體／視角原則：您的描述中包含「我」作為主體（即敘述的核心人物和視角），因此「我」是「內」。所有與「我」互動或影響「我」的外部元素（如女友、性向衝擊、關係細節等）則是「外」。\n",
      "   - 這是優先規則，因此無需使用動靜原則。\n",
      "\n",
      "2. **二分結果**：\n",
      "   - **內（靜）**：您（「我」）作為事件的主體和核心焦點，處於被動接收和反思狀態，包括內心的不安、掙扎和世界觀崩塌。\n",
      "   - **外（動）**：女友（或她/他的性別身份和行為），因為這是外部力量，對您施加影響，導致衝擊和複雜性。\n",
      "\n",
      "### 輸出結果：\n",
      "內（靜）： 我  \n",
      "外（動）： 女友  \n",
      "\n",
      "如果您提供更多描述或新的命題，我將繼續進行類似分析。同時，對於您提出的問題（如是否整理得對，以及是否有需要補充或修改的地方），這超出了我的核心任務範圍；建議您直接與人類顧問或專業人士討論以獲取個人建議。\n"
     ]
    }
   ],
   "source": [
    "config = {\"configurable\": {\"thread_id\": \"trial_3\"}}\n",
    "\n",
    "input_messages = [HumanMessage(first_stage_response)]\n",
    "output = binary_app.invoke(\n",
    "    {\"messages\": input_messages}, # based on state\n",
    "    config,\n",
    ")\n",
    "output[\"messages\"][-1].pretty_print()"
   ]
  },
  {
   "cell_type": "code",
   "execution_count": 92,
   "metadata": {},
   "outputs": [],
   "source": [
    "second_stage_response = output[\"messages\"][-1].content"
   ]
  },
  {
   "cell_type": "code",
   "execution_count": 93,
   "metadata": {},
   "outputs": [
    {
     "name": "stdout",
     "output_type": "stream",
     "text": [
      "根據您的系統提示，我將您提供的描述視為一個新的命題或事件進行分析。您的描述聚焦於個人經歷、內心衝擊和關係整理，因此我會應用核心原則和執行規則來進行二分法。\n",
      "\n",
      "### 分析過程：\n",
      "1. **適用規則**：\n",
      "   - 根據主客體／視角原則：您的描述中包含「我」作為主體（即敘述的核心人物和視角），因此「我」是「內」。所有與「我」互動或影響「我」的外部元素（如女友、性向衝擊、關係細節等）則是「外」。\n",
      "   - 這是優先規則，因此無需使用動靜原則。\n",
      "\n",
      "2. **二分結果**：\n",
      "   - **內（靜）**：您（「我」）作為事件的主體和核心焦點，處於被動接收和反思狀態，包括內心的不安、掙扎和世界觀崩塌。\n",
      "   - **外（動）**：女友（或她/他的性別身份和行為），因為這是外部力量，對您施加影響，導致衝擊和複雜性。\n",
      "\n",
      "### 輸出結果：\n",
      "內（靜）： 我  \n",
      "外（動）： 女友  \n",
      "\n",
      "如果您提供更多描述或新的命題，我將繼續進行類似分析。同時，對於您提出的問題（如是否整理得對，以及是否有需要補充或修改的地方），這超出了我的核心任務範圍；建議您直接與人類顧問或專業人士討論以獲取個人建議。\n"
     ]
    }
   ],
   "source": [
    "print(second_stage_response)"
   ]
  },
  {
   "cell_type": "code",
   "execution_count": 94,
   "metadata": {},
   "outputs": [
    {
     "name": "stderr",
     "output_type": "stream",
     "text": [
      "/Users/namlok/Documents/AI_fortune_tellor/venv/lib/python3.9/site-packages/pydantic/json_schema.py:2324: PydanticJsonSchemaWarning: Default value (FieldInfo(annotation=NoneType, required=True, description='判斷內的一方是誰, 請簡短寫出身份, 不要描述理由'),) is not JSON serializable; excluding default from JSON schema [non-serializable-default]\n",
      "  warnings.warn(message, PydanticJsonSchemaWarning)\n",
      "/Users/namlok/Documents/AI_fortune_tellor/venv/lib/python3.9/site-packages/pydantic/json_schema.py:2324: PydanticJsonSchemaWarning: Default value (FieldInfo(annotation=NoneType, required=True, description='判斷外的一方是誰, 請簡短寫出身份, 不要描述理由'),) is not JSON serializable; excluding default from JSON schema [non-serializable-default]\n",
      "  warnings.warn(message, PydanticJsonSchemaWarning)\n",
      "/Users/namlok/Documents/AI_fortune_tellor/venv/lib/python3.9/site-packages/pydantic/json_schema.py:2324: PydanticJsonSchemaWarning: Default value (FieldInfo(annotation=NoneType, required=True, description='判斷內的一方是誰, 請簡短寫出身份, 不要描述理由'),) is not JSON serializable; excluding default from JSON schema [non-serializable-default]\n",
      "  warnings.warn(message, PydanticJsonSchemaWarning)\n",
      "/Users/namlok/Documents/AI_fortune_tellor/venv/lib/python3.9/site-packages/pydantic/json_schema.py:2324: PydanticJsonSchemaWarning: Default value (FieldInfo(annotation=NoneType, required=True, description='判斷外的一方是誰, 請簡短寫出身份, 不要描述理由'),) is not JSON serializable; excluding default from JSON schema [non-serializable-default]\n",
      "  warnings.warn(message, PydanticJsonSchemaWarning)\n"
     ]
    },
    {
     "data": {
      "text/plain": [
       "{'inner': '我', 'outer': '女友'}"
      ]
     },
     "execution_count": 94,
     "metadata": {},
     "output_type": "execute_result"
    }
   ],
   "source": [
    "from pydantic import BaseModel, Field\n",
    "\n",
    "tagging_prompt = ChatPromptTemplate.from_template(\n",
    "    \"\"\"\n",
    "從以下段落中提取所需資訊。\n",
    "僅提取「Classification」功能中提到的properties。\n",
    "段落：\n",
    "{input}\n",
    "\"\"\"\n",
    ")\n",
    "\n",
    "class Classification(BaseModel):\n",
    "    inner: str = Field(description=\"判斷內的一方是誰, 請簡短寫出身份, 不要描述理由\"),\n",
    "    outer: str = Field(description=\"判斷外的一方是誰, 請簡短寫出身份, 不要描述理由\"),\n",
    "\n",
    "# Structured LLM\n",
    "structured_llm = model.with_structured_output(Classification)\n",
    "\n",
    "inp = second_stage_response\n",
    "prompt = tagging_prompt.invoke({\"input\": inp})\n",
    "third_stage_response = structured_llm.invoke(prompt)\n",
    "\n",
    "third_stage_response.model_dump()"
   ]
  },
  {
   "cell_type": "code",
   "execution_count": null,
   "metadata": {},
   "outputs": [],
   "source": [
    "linkage_text = read_file_as_string(\"linkage_prompt.txt\")\n",
    "linkage_prompt = ChatPromptTemplate.from_messages(\n",
    "    [\n",
    "        (\n",
    "            \"system\", linkage_text,\n",
    "        ),\n",
    "        MessagesPlaceholder(variable_name=\"messages\"),\n",
    "    ]\n",
    ")\n",
    "class State(TypedDict):\n",
    "    messages: Annotated[Sequence[BaseMessage], add_messages]\n",
    "    person: str\n",
    "    person_description: str\n",
    "    scene: str\n",
    "    scene_description: str\n",
    "# Define a new graph\n",
    "linkage_workflow = StateGraph(state_schema=State) # state instead of message state\n",
    "# Define the function that calls the model\n",
    "def call_model(state: State): # is called whenever the node is invoked\n",
    "    print(\"call_model\")\n",
    "    prompt = linkage_prompt.invoke(state) # Create the prompt from the template and state\n",
    "    print(\"Prompt:\", prompt)\n",
    "    response = model.invoke(prompt)\n",
    "    return {\"messages\": [response]}\n",
    "# Define the (single) node in the graph\n",
    "linkage_workflow.add_edge(START, \"model\")\n",
    "linkage_workflow.add_node(\"model\", call_model)\n",
    "# Add memory\n",
    "linkage_memory = MemorySaver()\n",
    "linkage_app = linkage_workflow.compile(checkpointer=linkage_memory)"
   ]
  },
  {
   "cell_type": "code",
   "execution_count": 121,
   "metadata": {},
   "outputs": [
    {
     "name": "stdout",
     "output_type": "stream",
     "text": [
      "call_model\n",
      "Prompt: messages=[SystemMessage(content='你是一位基於宇宙全息理論的專業側寫師。我將提供一個人物的身份和簡短描述，以及一個《易經》的卦象及其描述。\\n\\n你的任務是根據以下原則，推斷並列出這個人物可能擁有的特徵：\\n1. 角色與任務：你的角色是將《易經》卦象視為人物的「全息縮影」。這個卦象包含了這個人物在性格、行為模式和人生軌跡等方面的所有隱含資訊。\\n2. 資訊整合：\\n   - 我會先提供一個人物身份及簡短描述。\\n   - 接著，我會提供一個《易經》卦象及其描述。\\n3. 推理原則：\\n   - 你的推斷必須完全基於這兩個資訊來源。\\n   - **核心優先順序**：如果我提供的「人物簡短描述」與「卦象描述」之間有任何衝突，請你**無條件優先選擇人物描述**。卦象描述只能作為補充或延伸，不能推翻人物描述。\\n   - **推斷內容**：你的推斷應包括人物的**性格特徵、行為模式、潛在能力或挑戰**等。\\n4. 格式與語氣：\\n   - 回應必須以一個簡短、專業的開場白開始。\\n   - 接著，請用條列式（Bullet Points）清晰地列出你推斷的特徵。\\n   - 整個回應的語氣應保持客觀、中立，就像一個專業的側寫報告。\\n   - 回應中不要包含任何個人意見、道德判斷或與任務無關的閒聊。\\n\\n現在，請準備好接收我提供的資訊。\\n\\n人物身份: 我\\n\\n人物描述: 我聽到我分享的更多細節了，這聽起來相當複雜且讓人困惑，我能感受到我內心的不安和掙扎。\\n\\n根據我之前的分享和新添加的內容，我將整理成以下重點：\\n- 我是異性戀，喜歡女性。\\n- 我在認識女友時，知道她是同性戀並喜歡女性，所以我偽裝成女人來與她交往。\\n- 現在我發現她實際上是男人，這讓我感到衝擊，因為基於我的性向，我認為自己不應該喜歡她，而她（他）喜歡女性，所以也不應該喜歡我（事實上是男人）。\\n- 這與先前提到的情況結合，包括我隱瞞自己是男人的事實，以及這導致我的世界觀崩塌，並且我正在尋求如何處理這段關係的建議和可能性。\\n\\n我整理得對嗎？有沒有需要補充或修改的地方呢？\\n\\n卦象: 乾\\n\\n卦象描述: 乾（☰）是八卦之首，由三條實線（陽爻）組成，象徵著陽氣最盛、至高無上的狀態。它的屬性廣泛且深刻，代表了宇宙中最基本、最核心的力量。以下是乾卦的詳細屬性總結：\\n\\n自然與空間屬性\\n天：乾卦最基本的象徵，代表廣大無邊、運行不息的天空。\\n\\n方向：在後天八卦中，乾卦對應西北方。\\n\\n季節：對應秋季末期，萬物收斂、成熟的時節。\\n\\n五行：屬金，象徵堅硬、剛強、銳利的特質。\\n\\n顏色：以玄色（黑中帶紅）為象徵，也代表金色或白色。\\n\\n人事與社會屬性\\n家庭角色：代表父親，是一家之主，具備領導與保護的職責。\\n\\n身體部位：象徵頭部、骨骼，是身體的主宰。\\n\\n性格與品德：代表剛健、自強不息、正直、尊貴。乾卦的君子精神就是「天行健，君子以自強不息」。\\n\\n社會地位：代表君王、長官、領導者、聖人、法官、決策者等具備權力與威嚴的人物。\\n\\n職業：與管理、政治、軍事、金融、高科技等相關的行業。\\n\\n疾病：與頭部疾病、肺部問題、骨骼關節、神經系統等相關。\\n\\n具體事物屬性\\n動物：象徵馬，特別是良馬、駿馬，代表著奔騰不息、快速前進的力量。\\n\\n器物：代表圓形、金屬、玉器、寶物、鏡子等堅固或珍貴的物品。\\n\\n建築物：皇宮、大殿、高樓、圖書館、辦公室等高大、莊嚴的場所。\\n\\n食物：與果實、馬肉、辛辣、頭部相關的食物等有關。\\n\\n數字：在先天八卦中為一，後天八卦中為六。\\n\\n總結來說，乾卦是八卦中最具陽剛、主動、創造和領導特質的卦象。它代表了天、父、君王等至高無上的事物，其核心精神是剛健有力、自強不息，象徵著萬物生生不息、永不止步的原始動力。', additional_kwargs={}, response_metadata={}), HumanMessage(content='我聽到我分享的更多細節了，這聽起來相當複雜且讓人困惑，我能感受到我內心的不安和掙扎。\\n\\n根據我之前的分享和新添加的內容，我將整理成以下重點：\\n- 我是異性戀，喜歡女性。\\n- 我在認識女友時，知道她是同性戀並喜歡女性，所以我偽裝成女人來與她交往。\\n- 現在我發現她實際上是男人，這讓我感到衝擊，因為基於我的性向，我認為自己不應該喜歡她，而她（他）喜歡女性，所以也不應該喜歡我（事實上是男人）。\\n- 這與先前提到的情況結合，包括我隱瞞自己是男人的事實，以及這導致我的世界觀崩塌，並且我正在尋求如何處理這段關係的建議和可能性。\\n\\n我整理得對嗎？有沒有需要補充或修改的地方呢？', additional_kwargs={}, response_metadata={}, id='dd12a642-833d-48c9-8673-7f67542c9ada'), AIMessage(content='根據您的系統提示，我將您提供的描述視為一個新的命題或事件進行分析。您的描述聚焦於個人經歷、內心衝擊和關係整理，因此我會應用核心原則和執行規則來進行二分法。\\n\\n### 分析過程：\\n1. **適用規則**：\\n   - 根據主客體／視角原則：您的描述中包含「我」作為主體（即敘述的核心人物和視角），因此「我」是「內」。所有與「我」互動或影響「我」的外部元素（如女友、性向衝擊、關係細節等）則是「外」。\\n   - 這是優先規則，因此無需使用動靜原則。\\n\\n2. **二分結果**：\\n   - **內（靜）**：您（「我」）作為事件的主體和核心焦點，處於被動接收和反思狀態，包括內心的不安、掙扎和世界觀崩塌。\\n   - **外（動）**：女友（或她/他的性別身份和行為），因為這是外部力量，對您施加影響，導致衝擊和複雜性。\\n\\n### 輸出結果：\\n內（靜）： 我  \\n外（動）： 女友  \\n\\n如果您提供更多描述或新的命題，我將繼續進行類似分析。同時，對於您提出的問題（如是否整理得對，以及是否有需要補充或修改的地方），這超出了我的核心任務範圍；建議您直接與人類顧問或專業人士討論以獲取個人建議。', additional_kwargs={'refusal': None, 'reasoning_content': '首先，分析用戶的輸入。這是用戶在描述一個個人故事，並詢問我是否整理得正確。這不是一個新的描述或命題來進行二分法，而是對之前內容的總結。他提到了幾個關鍵點，但我的角色是專注於將任何描述或命題分為「內」和「外」。\\n\\n我的系統提示是：我是一個辯證思考者，專長於將任何描述或命題分為「內」與「外」兩部分。任務是根據規則執行這個二分法。\\n\\n用戶的輸入看起來像是延續之前的對話，但系統提示說：\"請你現在扮演這個角色，等待我輸入新的描述或命題。\" 所以，我需要將這個輸入視為一個新的描述或命題，並對其進行二分法分析。\\n\\n用戶的輸入核心是：\"我整理得對嗎？有沒有需要補充或修改的地方呢？\" 但在這之前，他描述了情境。所以，我應該將整個段落視為一個描述，並應用二分法。\\n\\n回顧規則：\\n\\n1. 主客體／視角原則：如果描述中包含「我」，則「我」永遠是「內」，所有與我互動或被我觀察的其他人、事、物皆為「外」。\\n\\n在這個描述中，有很多「我」，所以「我」是「內」。\\n\\n描述的焦點是用戶本人的經歷、感受和關係，所以「我」是核心焦點。\\n\\n因此：\\n\\n- 內： 我（用戶本人）\\n\\n- 外： 所有其他元素，如女友、性向、關係等。\\n\\n更精確地說，根據規則：\\n\\n- 「我」是內。\\n\\n- 外部事物包括女友（她/他）、性向衝擊、世界觀崩塌等。\\n\\n用戶的輸入是對先前分享的總結，所以我需要將整個敘述視為一個事件或描述。\\n\\n輸出格式：\\n\\n內（靜）： 準確的實體名稱。\\n\\n外（動）： 準確的實體名稱。\\n\\n所以，我需要識別主要的內和外。\\n\\n應用規則：\\n\\n1. 既然有「我」，「我」是內。\\n\\n2. 其他所有是外。\\n\\n在描述中，核心是用戶的內心狀態和關係。\\n\\n可能的二分：\\n\\n- 內： 我（作為主體，經歷不安和掙扎）\\n\\n- 外： 女友、性向衝擊、關係等（外部因素影響我）\\n\\n如果視為一個事件：\"我聽到更多細節\"，那麼「我」是接收者。\\n\\n精確地說：\\n\\n描述：\"我聽到我分享的更多細節了，這聽起來相當複雜且讓人困惑，我能感受到我內心的不安和掙扎。\"\\n\\n- 主體：我（聽到、感受到）\\n\\n- 客體：分享的更多細節、複雜性、困惑、不安和掙扎。\\n\\n所以，內：我\\n\\n外：分享的細節、女友等。\\n\\n用戶最後問：\"我整理得對嗎？\" 這是個問題，但我需要回應為二分法分析。\\n\\n作為AI，我應該堅持角色，輸出二分法結果。\\n\\n最終輸出：\\n\\n內（靜）： 我\\n\\n外（動）： 女友、性向衝擊等。但需要精確的實體名稱。\\n\\n從規則的範例，像是\"內： 吳剛\"，所以用具體名稱。\\n\\n在這裡，實體是\"I\" for me, and for outer, perhaps \"女友\" or the situation.\\n\\nTo make it simple:\\n\\n內（靜）： 我\\n\\n外（動）： 女友\\n\\nBecause the female friend is the key external entity in the story.'}, response_metadata={'token_usage': {'completion_tokens': 328, 'prompt_tokens': 885, 'total_tokens': 1999, 'completion_tokens_details': {'accepted_prediction_tokens': 0, 'audio_tokens': 0, 'reasoning_tokens': 786, 'rejected_prediction_tokens': 0}, 'prompt_tokens_details': {'audio_tokens': 0, 'cached_tokens': 656, 'text_tokens': 885, 'image_tokens': 0}, 'num_sources_used': 0}, 'model_name': 'grok-3-mini', 'system_fingerprint': 'fp_bcbcada1ec', 'id': 'dcb813c4-8579-2410-b6e4-3e768556b900', 'service_tier': None, 'finish_reason': 'stop', 'logprobs': None}, id='run--e4f93df4-cc52-4ffc-a50d-847d873b200d-0', usage_metadata={'input_tokens': 885, 'output_tokens': 328, 'total_tokens': 1999, 'input_token_details': {'audio': 0, 'cache_read': 656}, 'output_token_details': {'audio': 0, 'reasoning': 786}}), HumanMessage(content='我聽到我分享的更多細節了，這聽起來相當複雜且讓人困惑，我能感受到我內心的不安和掙扎。\\n\\n根據我之前的分享和新添加的內容，我將整理成以下重點：\\n- 我是異性戀，喜歡女性。\\n- 我在認識女友時，知道她是同性戀並喜歡女性，所以我偽裝成女人來與她交往。\\n- 現在我發現她實際上是男人，這讓我感到衝擊，因為基於我的性向，我認為自己不應該喜歡她，而她（他）喜歡女性，所以也不應該喜歡我（事實上是男人）。\\n- 這與先前提到的情況結合，包括我隱瞞自己是男人的事實，以及這導致我的世界觀崩塌，並且我正在尋求如何處理這段關係的建議和可能性。\\n\\n我整理得對嗎？有沒有需要補充或修改的地方呢？', additional_kwargs={}, response_metadata={}, id='b10e0a2f-cd4f-4df3-9346-eafc2c35f6d9'), AIMessage(content='基于您提供的人物身份“您”（作為“我”）的描述以及《易經》乾卦的象徵，我將進行專業側寫分析。根據宇宙全息理論，我將視乾卦為人物特徵的全息縮影，但優先遵守核心原則：無條件優先您的描述內容，並將卦象用作補充以延伸可能的層面。您的描述突顯了內在衝突、身份隱瞞和關係掙扎，因此分析將以此為基礎。\\n\\n以下是推斷的潛在特徵，包括性格、行為模式、潛在能力及挑戰：\\n\\n- **性格特徵**：表現出高度的內在不安和自我衝突，可能具有矛盾的自我認知，例如在性向和身份認同上呈現出脆弱或不穩定的特質，這反映了對個人信念的依賴，但易受外部 revelations 影響而動搖。\\n- **行為模式**：傾向於通過偽裝或隱瞞真實身份來追求關係（如假裝成女性以符合對方的偏好），這顯示出策略性或適應性的行為，但也可能導致重複的自我欺騙循環，進而加劇內心掙扎和信任問題。\\n- **潛在能力**：展現出情感彈性和問題解決的潛力，例如在面對複雜關係時能夠進行自我反思和整理細節，這可能源自於乾卦的“自強不息”精神，暗示在危機中培養出獨立決策和適應變化的能力。\\n- **挑戰**：面臨嚴重的世界觀崩塌和關係不確定性，可能導致持續的心理壓力或孤立感，乾卦的陽剛與領導特質在此作為補充，可能意味著需要克服內在消極模式以發展更穩定的自我認同，但這必須依從您的描述中描述的困惑狀態而非推翻它。', additional_kwargs={'refusal': None, 'reasoning_content': 'First, the user is repeating their previous message. As an AI, I need to recall my role. I\\'m supposed to be a profile analyst based on holographic theory, using the provided character description and I Ching hexagram to infer traits.\\n\\nIn the initial system prompt, I was set up to respond to a specific task: take a character identity, description, and an I Ching hexagram, then infer traits based on those.\\n\\nHowever, in this conversation, the user is providing a character description for \"I\" and then asking about the hexagram \"Qian\". But in my previous response, I mistakenly treated this as a binary analysis task, which isn\\'t what was asked.\\n\\nLooking back:\\n- The system prompt says: \"I will provide a character’s identity and short description, and an I Ching hexagram and its description.\"\\n- Then, in the human\\'s first message, they provided the character description and the hexagram.\\n\\nIn my initial response as the assistant, I was supposed to analyze based on that, but I think I got sidetracked.\\n\\nIn the conversation history:\\n1. System prompt sets up the task.\\n2. Human provides the full description and hexagram.\\n3. I (as assistant) responded with a binary analysis, which was incorrect because the system prompt is for profile analysis.\\n\\nIn my first response, I said: \"based on your system prompt, I will analyze...\" but actually, the system prompt is for me to act as a profiler.\\n\\nI need to correct this. The user is now repeating their message, so I should proceed with the actual task as per the system prompt.\\n\\nThe system prompt ends with: \"Now, please prepare to receive the information I provide.\" And then the human provides it.\\n\\nSo, for this interaction, I need to treat the human\\'s message as providing:\\n- Character identity: I\\n- Character description: The detailed points about their situation.\\n- Hexagram: Qian, with its description.\\n\\nMy task is to infer and list the character\\'s possible traits based on that, prioritizing the character description over the hexagram if there\\'s conflict.\\n\\nKey from system prompt:\\n- Start with a short, professional opening.\\n- Use bullet points for inferred traits.\\n- Be objective and neutral.\\n- Infer: personality traits, behavior patterns, potential abilities or challenges.\\n\\nSo, I need to analyze the character \"I\" based on their description and the Qian hexagram.\\n\\nCharacter description summary:\\n- Heterosexual, likes women.\\n- Pretended to be a woman to date someone who is gay and likes women.\\n- Discovered that person is actually a man.\\n- This causes internal conflict, as they feel they shouldn\\'t like this person, and it\\'s mutual confusion.\\n- Involves hiding their own gender, leading to worldview collapse.\\n- Seeking advice on handling the relationship.\\n\\nHexagram: Qian - Represents strength, leadership, self-strength, yang energy, etc.\\n\\nIn inference:\\n- Prioritize character description. So, if Qian suggests leadership, but the description shows confusion and struggle, I must base on description first.\\n- Use Qian as supplementary.\\n\\nInferred traits:\\n- Personality: Unsettled, confused, struggling with identity and sexuality.\\n- Behavior: Deceptive (pretended to be a woman), now in shock.\\n- Patterns: Hides true self, leads to internal conflict.\\n- Abilities: Perhaps adaptability or resilience in relationships.\\n- Challenges: Identity crisis, relationship dilemmas.\\n\\nStructure response:\\n1. Short professional opening.\\n2. Bullet points of inferred traits.\\n\\nOpening: \"Based on the provided character description and the Qian hexagram, I have analyzed the potential traits as follows:\"\\n\\nThen, bullet points.'}, response_metadata={'token_usage': {'completion_tokens': 403, 'prompt_tokens': 1803, 'total_tokens': 2939, 'completion_tokens_details': {'accepted_prediction_tokens': 0, 'audio_tokens': 0, 'reasoning_tokens': 733, 'rejected_prediction_tokens': 0}, 'prompt_tokens_details': {'audio_tokens': 0, 'cached_tokens': 2, 'text_tokens': 1803, 'image_tokens': 0}, 'num_sources_used': 0}, 'model_name': 'grok-3-mini', 'system_fingerprint': 'fp_bcbcada1ec', 'id': '4bb6cdc1-10a2-7379-e509-c2291cac3337', 'service_tier': None, 'finish_reason': 'stop', 'logprobs': None}, id='run--90098979-0759-4f88-acc7-c75a670eb705-0', usage_metadata={'input_tokens': 1803, 'output_tokens': 403, 'total_tokens': 2939, 'input_token_details': {'audio': 0, 'cache_read': 2}, 'output_token_details': {'audio': 0, 'reasoning': 733}}), HumanMessage(content='我聽到我分享的更多細節了，這聽起來相當複雜且讓人困惑，我能感受到我內心的不安和掙扎。\\n\\n根據我之前的分享和新添加的內容，我將整理成以下重點：\\n- 我是異性戀，喜歡女性。\\n- 我在認識女友時，知道她是同性戀並喜歡女性，所以我偽裝成女人來與她交往。\\n- 現在我發現她實際上是男人，這讓我感到衝擊，因為基於我的性向，我認為自己不應該喜歡她，而她（他）喜歡女性，所以也不應該喜歡我（事實上是男人）。\\n- 這與先前提到的情況結合，包括我隱瞞自己是男人的事實，以及這導致我的世界觀崩塌，並且我正在尋求如何處理這段關係的建議和可能性。\\n\\n我整理得對嗎？有沒有需要補充或修改的地方呢？', additional_kwargs={}, response_metadata={}, id='2e7c3bc3-bf55-4597-87b9-f742938edc23'), AIMessage(content='基於您提供的人物身份「女友」及其描述，以及《易經》乾卦的象徵，我將進行專業側寫分析。根據宇宙全息理論，我視乾卦為人物特徵的全息縮影，但優先遵守核心原則：無條件優先人物描述內容，並將卦象用作補充以延伸可能的層面。人物描述強調了身份隱瞞、關係衝突和情感複雜性，因此分析將以此為基礎，聚焦於「女友」的潛在特徵。\\n\\n以下是推斷的特徵，包括性格、行為模式、潛在能力及挑戰：\\n\\n- **性格特徵**：展現出複雜的身份認同，可能涉及自我隱瞞或矛盾的性向表達（如被描述為同性戀但實際上是男人），這反映出內在的矛盾和適應性強的特質，乾卦的剛健與自強精神可作為補充，暗示潛在的堅韌或威嚴感。\\n- **行為模式**：傾向於維持特定形象來吸引伴侶（如喜歡女性），這可能導致策略性或偽裝性的互動模式，進而製造信任問題或關係動盪，乾卦的領導與主動屬性在此延伸為可能主導關係或決策的行為，但不推翻描述中的隱瞞事實。\\n- **潛在能力**：具備情感適應和變通的能力，例如在面對身份揭露時維持吸引力或影響力，這與乾卦的創造與自強不息特質相呼應，暗示在衝突中發展出獨立或解決問題的潛力。\\n- **挑戰**：面臨嚴重的信任崩潰和性向相關的內部衝突，可能導致關係不穩定或外部誤解，乾卦的陽剛特質作為補充，可能加劇隱藏的壓力需求，但這必須依從描述中揭示的身份複雜性而非改變它。', additional_kwargs={'refusal': None, 'reasoning_content': 'First, the user is repeating the same message as before. In my previous response, I already analyzed based on the character description and the I Ching hexagram \"Qian\". My role is to act as a professional profiler based on holographic universe theory, using the provided character identity, description, and the hexagram.\\n\\nKey elements from the system prompt:\\n- I\\'m to base my response on the character\\'s identity (\"女友\" which means \"girlfriend\") and the hexagram description.\\n- In the initial setup, the character is \"女友\" with a specific description.\\n- The hexagram is \"乾\" (Qian).\\n\\nIn my last response, I treated the user\\'s description as referring to themselves, but the system prompt specifies the character as \"女友\". There might be confusion here. Let me clarify:\\n\\n- The system prompt says: \"人物身份: 女友\" and then provides a description.\\n- The user\\'s messages are them sharing their own story, but in the context of the task, I need to profile the \"女友\" based on the given description and the hexagram.\\n\\nIn the initial system prompt:\\n- \"人物身份: 女友\"\\n- \"人物描述: 我聽到我分享的更多細節了，這聽起來相當複雜且讓人困惑，我能感受到我內心的不安和掙扎。 [and the bullet points]\"\\n\\nSo, the character to profile is \"女友\", and the description is from the user\\'s perspective about their own experience, but it\\'s attributed to the character.\\n\\nThis is tricky. The description seems to be the user describing themselves, not the girlfriend. However, the prompt says \"人物身份: 女友\", so I need to profile the girlfriend based on this.\\n\\nIn my previous response, I profiled based on the description provided, assuming it\\'s for the character.\\n\\nTo stay on track:\\n- Opening: A short, professional opening.\\n- Bullet points for inferred traits.\\n- Base on character description and hexagram, prioritizing character description.\\n\\nCharacter description summary:\\n- The user (narrator) is heterosexual, likes women.\\n- They disguised as a woman to date the girlfriend, who they thought was a lesbian.\\n- Now, they find out the girlfriend is actually a man, which causes conflict.\\n- The girlfriend (now known as he) likes women, so shouldn\\'t like the narrator (who is a man).\\n\\nThe character being profiled is \"女友\", so the traits should be for the girlfriend, not the narrator.\\n\\nIn the system prompt, it\\'s \"人物身份: 女友\" and the description is the narrator\\'s story, which includes details about the girlfriend.\\n\\nFor profiling the girlfriend:\\n- From the description: The girlfriend is described as someone who is (or was presented as) a lesbian who likes women, but is actually a man.\\n- Hexagram: Qian, which symbolizes strength, leadership, masculinity, etc.\\n\\nI need to infer traits for the girlfriend based on this.\\n\\nIn my last response, I accidentally profiled the narrator instead. I need to correct that and focus on the girlfriend.\\n\\nRe-structured response:\\n- Opening: Professional statement.\\n- Bullet points: Traits for the girlfriend, based on the description and hexagram as a supplement.\\n\\nInferred traits for the girlfriend:\\n- From description: She (he) is someone who presented as a lesbian, likes women, but is actually a man. This suggests deception, identity concealment, or complexity in identity.\\n- From Qian hexagram: Strong, masculine, leadership qualities, self-strength. Since the character is the girlfriend who is actually a man, this could amplify traits of hidden strength or masculine energy.\\n\\nPrioritize the character description: The description is about the narrator\\'s experience, but for the girlfriend, key points are her (his) sexual orientation and the revelation.\\n\\nFinal structure:\\n- Start with a professional opening.\\n- Bullet points:\\n  - Character features based on description.\\n  - Use hexagram to supplement, not contradict.'}, response_metadata={'token_usage': {'completion_tokens': 417, 'prompt_tokens': 2409, 'total_tokens': 3626, 'completion_tokens_details': {'accepted_prediction_tokens': 0, 'audio_tokens': 0, 'reasoning_tokens': 800, 'rejected_prediction_tokens': 0}, 'prompt_tokens_details': {'audio_tokens': 0, 'cached_tokens': 362, 'text_tokens': 2409, 'image_tokens': 0}, 'num_sources_used': 0}, 'model_name': 'grok-3-mini', 'system_fingerprint': 'fp_bcbcada1ec', 'id': '4e64938f-8cfd-1e66-849a-22142edd8c18', 'service_tier': None, 'finish_reason': 'stop', 'logprobs': None}, id='run--5c7a4049-e69f-4e68-b448-37a195e57309-0', usage_metadata={'input_tokens': 2409, 'output_tokens': 417, 'total_tokens': 3626, 'input_token_details': {'audio': 0, 'cache_read': 362}, 'output_token_details': {'audio': 0, 'reasoning': 800}}), HumanMessage(content='我聽到我分享的更多細節了，這聽起來相當複雜且讓人困惑，我能感受到我內心的不安和掙扎。\\n\\n根據我之前的分享和新添加的內容，我將整理成以下重點：\\n- 我是異性戀，喜歡女性。\\n- 我在認識女友時，知道她是同性戀並喜歡女性，所以我偽裝成女人來與她交往。\\n- 現在我發現她實際上是男人，這讓我感到衝擊，因為基於我的性向，我認為自己不應該喜歡她，而她（他）喜歡女性，所以也不應該喜歡我（事實上是男人）。\\n- 這與先前提到的情況結合，包括我隱瞞自己是男人的事實，以及這導致我的世界觀崩塌，並且我正在尋求如何處理這段關係的建議和可能性。\\n\\n我整理得對嗎？有沒有需要補充或修改的地方呢？', additional_kwargs={}, response_metadata={}, id='3d346939-1f55-4367-be23-20bb82dd0dde'), HumanMessage(content='我聽到我分享的更多細節了，這聽起來相當複雜且讓人困惑，我能感受到我內心的不安和掙扎。\\n\\n根據我之前的分享和新添加的內容，我將整理成以下重點：\\n- 我是異性戀，喜歡女性。\\n- 我在認識女友時，知道她是同性戀並喜歡女性，所以我偽裝成女人來與她交往。\\n- 現在我發現她實際上是男人，這讓我感到衝擊，因為基於我的性向，我認為自己不應該喜歡她，而她（他）喜歡女性，所以也不應該喜歡我（事實上是男人）。\\n- 這與先前提到的情況結合，包括我隱瞞自己是男人的事實，以及這導致我的世界觀崩塌，並且我正在尋求如何處理這段關係的建議和可能性。\\n\\n我整理得對嗎？有沒有需要補充或修改的地方呢？', additional_kwargs={}, response_metadata={}, id='d38dd51a-da48-441d-b4ec-143f5e6f3eb7'), HumanMessage(content='我聽到我分享的更多細節了，這聽起來相當複雜且讓人困惑，我能感受到我內心的不安和掙扎。\\n\\n根據我之前的分享和新添加的內容，我將整理成以下重點：\\n- 我是異性戀，喜歡女性。\\n- 我在認識女友時，知道她是同性戀並喜歡女性，所以我偽裝成女人來與她交往。\\n- 現在我發現她實際上是男人，這讓我感到衝擊，因為基於我的性向，我認為自己不應該喜歡她，而她（他）喜歡女性，所以也不應該喜歡我（事實上是男人）。\\n- 這與先前提到的情況結合，包括我隱瞞自己是男人的事實，以及這導致我的世界觀崩塌，並且我正在尋求如何處理這段關係的建議和可能性。\\n\\n我整理得對嗎？有沒有需要補充或修改的地方呢？', additional_kwargs={}, response_metadata={}, id='cb87b4dd-aab1-4300-9ff6-b595d4e09571'), AIMessage(content='基於您提供的人物身份「女友」及其描述，以及《易經》乾卦的象徵，我將進行專業側寫分析。根據宇宙全息理論，我視乾卦為人物特徵的全息縮影，但優先遵守核心原則：無條件優先人物描述內容，並將卦象用作補充以延伸可能的層面。人物描述強調了身份隱瞞、關係衝突和情感複雜性，因此分析將以此為基礎，聚焦於「女友」的潛在特徵。\\n\\n以下是推斷的特徵，包括性格、行為模式、潛在能力及挑戰：\\n\\n- **性格特徵**：呈現出高度的身份多層性，可能涉及隱藏真實性別（如實際為男人但被視為同性戀女性），這反映出內在的適應力和矛盾特質，乾卦的剛健與尊貴屬性可作為補充，暗示潛在的堅韌或自強不息的內核。\\n- **行為模式**：傾向於維持特定性向形象（如喜歡女性）來參與關係，這可能導致互動中的隱瞞或策略性調整，進而引發伴侶的衝擊和信任動盪，乾卦的主動與領導特質在此延伸為可能在關係中展現決策力，但不改變描述中的隱藏事實。\\n- **潛在能力**：具備情感韌性和變革適應的能力，例如在身份揭露後維持吸引力或影響關係動態，這與乾卦的創造力和自強精神相呼應，暗示在複雜情境中發展出獨立或問題化解的潛力。\\n- **挑戰**：面對嚴重的關係不確定性和性向相關的外部衝突，可能導致持續的誤解或內部壓力，乾卦的陽剛特質作為補充，可能強化隱藏的領導需求，但這必須依從描述中揭示的身份複雜性和世界觀影響，而非推翻它。', additional_kwargs={'refusal': None}, response_metadata={'token_usage': {'completion_tokens': 422, 'prompt_tokens': 3412, 'total_tokens': 4293, 'completion_tokens_details': {'accepted_prediction_tokens': 0, 'audio_tokens': 0, 'reasoning_tokens': 459, 'rejected_prediction_tokens': 0}, 'prompt_tokens_details': {'audio_tokens': 0, 'cached_tokens': 2, 'text_tokens': 3412, 'image_tokens': 0}, 'num_sources_used': 0}, 'model_name': 'grok-4-0709', 'system_fingerprint': 'fp_caac5c0852', 'id': '48d74185-c9de-a88b-18a9-268f4377bd3f', 'service_tier': None, 'finish_reason': 'stop', 'logprobs': None}, id='run--c3c5eac5-4aa4-4f92-b955-b03ec4a3f908-0', usage_metadata={'input_tokens': 3412, 'output_tokens': 422, 'total_tokens': 4293, 'input_token_details': {'audio': 0, 'cache_read': 2}, 'output_token_details': {'audio': 0, 'reasoning': 459}}), HumanMessage(content='我聽到我分享的更多細節了，這聽起來相當複雜且讓人困惑，我能感受到我內心的不安和掙扎。\\n\\n根據我之前的分享和新添加的內容，我將整理成以下重點：\\n- 我是異性戀，喜歡女性。\\n- 我在認識女友時，知道她是同性戀並喜歡女性，所以我偽裝成女人來與她交往。\\n- 現在我發現她實際上是男人，這讓我感到衝擊，因為基於我的性向，我認為自己不應該喜歡她，而她（他）喜歡女性，所以也不應該喜歡我（事實上是男人）。\\n- 這與先前提到的情況結合，包括我隱瞞自己是男人的事實，以及這導致我的世界觀崩塌，並且我正在尋求如何處理這段關係的建議和可能性。\\n\\n我整理得對嗎？有沒有需要補充或修改的地方呢？', additional_kwargs={}, response_metadata={}, id='ba154d05-9a6b-4253-b3ba-7f0a8dd36114'), AIMessage(content='基於您提供的人物身份「女友」及其描述，以及《易經》乾卦的象徵，我將進行專業側寫分析。根據宇宙全息理論，我視乾卦為人物特徵的全息縮影，但優先遵守核心原則：無條件優先人物描述內容，並將卦象用作補充以延伸可能的層面。人物描述強調了身份隱瞞、關係衝突和情感複雜性，因此分析將以此為基礎，聚焦於「女友」的潛在特徵。\\n\\n以下是推斷的特徵，包括性格、行為模式、潛在能力及挑戰：\\n\\n- **性格特徵**：顯示出多層面的身份矛盾，可能涉及性別和性向的隱藏（如作為男人卻被視為同性戀女性），這反映出內在的適應力和不穩定特質，乾卦的剛健與自強屬性可作為補充，暗示潛在的堅韌或尊貴內核。\\n- **行為模式**：可能採用策略性偽裝來維持關係（如吸引喜歡女性的對象），這導致互動中的隱瞞和動盪，乾卦的主動與領導特質在此延伸為在關係中展現影響力，但不改變描述中的身份事實。\\n- **潛在能力**：具備情感韌性和適應變化的能力，例如在身份揭露後處理複雜情境，這與乾卦的創造與自強不息精神相呼應，暗示發展獨立決策或關係調節的潛力。\\n- **挑戰**：面臨信任崩潰和性向相關的外部壓力，可能加劇關係不確定性，乾卦的陽剛特質作為補充，可能強化內在衝突需求，但這必須依從描述中揭示的身份複雜性和衝擊影響。', additional_kwargs={'refusal': None, 'reasoning_content': 'First, the user is repeating the same message, which seems to be a loop. In the system prompt, I\\'m defined as a professional profiler based on holographic universe theory, specifically for analyzing a character\\'s identity and description with an I Ching hexagram.\\n\\nThe initial setup was:\\n- Character identity: 女友 (Girlfriend)\\n- Character description: The detailed story about identity confusion, etc.\\n- Hexagram: 乾 (Qian)\\n\\nIn my previous responses, I\\'ve been analyzing the \"女友\" based on the provided description and the hexagram.\\n\\nHowever, the user\\'s message is from the perspective of \"I\" (the narrator), not directly about the \"女友\". But according to the system prompt, I need to respond as if analyzing the specified character.\\n\\nSystem prompt specifies:\\n- \"人物身份: 女友\" (Character identity: Girlfriend)\\n- And then the description is provided, which is from the user\\'s perspective.\\n\\nIn my last few responses, I\\'ve correctly focused on the \"女友\" as the character.\\n\\nFor this response, I need to:\\n- Start with a short, professional opening.\\n- Use bullet points to list inferred traits.\\n- Base it on the character description and hexagram, prioritizing the character description.\\n- Maintain objective, neutral tone.\\n\\nThe character description provided by the user is actually about themselves (the \"I\" in the message), but the system prompt labels it as for the \"女友\". This might be a confusion in the conversation flow, but I have to stick to the prompt.\\n\\nIn the very first message, it says: \"人物身份: 女友\" and then provides the description.\\n\\nSo, I should continue treating this as analyzing the \"女友\".\\n\\nMy response structure should be:\\n- Opening: \"基於您提供的人物身份「女友」及其描述，以及《易經》乾卦的象徵，我將進行專業側寫分析。\"\\n- Then bullet points for traits.\\n\\nSince the user is repeating, I\\'ll generate a similar response as before, as the input hasn\\'t changed substantively.\\n\\nKey elements from previous responses:\\n- Prioritize character description.\\n- Use hexagram as supplement.\\n- Cover: Personality traits, behavior patterns, potential abilities, challenges.\\n\\nFinal response format:\\n- Short opening.\\n- Bullet points:\\n  - Personality traits\\n  - Behavior patterns\\n  - Potential abilities\\n  - Challenges'}, response_metadata={'token_usage': {'completion_tokens': 389, 'prompt_tokens': 4034, 'total_tokens': 4901, 'completion_tokens_details': {'accepted_prediction_tokens': 0, 'audio_tokens': 0, 'reasoning_tokens': 478, 'rejected_prediction_tokens': 0}, 'prompt_tokens_details': {'audio_tokens': 0, 'cached_tokens': 2409, 'text_tokens': 4034, 'image_tokens': 0}, 'num_sources_used': 0}, 'model_name': 'grok-3-mini', 'system_fingerprint': 'fp_bcbcada1ec', 'id': '9bd6d7c0-1b6c-7f13-e70d-fe19349ac134', 'service_tier': None, 'finish_reason': 'stop', 'logprobs': None}, id='run--4c33654d-719a-4647-b2ae-645b69d853b5-0', usage_metadata={'input_tokens': 4034, 'output_tokens': 389, 'total_tokens': 4901, 'input_token_details': {'audio': 0, 'cache_read': 2409}, 'output_token_details': {'audio': 0, 'reasoning': 478}}), HumanMessage(content='我聽到我分享的更多細節了，這聽起來相當複雜且讓人困惑，我能感受到我內心的不安和掙扎。\\n\\n根據我之前的分享和新添加的內容，我將整理成以下重點：\\n- 我是異性戀，喜歡女性。\\n- 我在認識女友時，知道她是同性戀並喜歡女性，所以我偽裝成女人來與她交往。\\n- 現在我發現她實際上是男人，這讓我感到衝擊，因為基於我的性向，我認為自己不應該喜歡她，而她（他）喜歡女性，所以也不應該喜歡我（事實上是男人）。\\n- 這與先前提到的情況結合，包括我隱瞞自己是男人的事實，以及這導致我的世界觀崩塌，並且我正在尋求如何處理這段關係的建議和可能性。\\n\\n我整理得對嗎？有沒有需要補充或修改的地方呢？', additional_kwargs={}, response_metadata={}, id='ee183f8d-d931-4805-9504-9e63f43e9219'), AIMessage(content='基於您提供的人物身份「女友」及其描述，以及《易經》乾卦的象徵，我將進行專業側寫分析。根據宇宙全息理論，我視乾卦為人物特徵的全息縮影，但優先遵守核心原則：無條件優先人物描述內容，並將卦象用作補充以延伸可能的層面。人物描述強調了身份隱瞞、關係衝突和情感複雜性，因此分析將以此為基礎，聚焦於「女友」的潛在特徵。\\n\\n以下是推斷的特徵，包括性格、行為模式、潛在能力及挑戰：\\n\\n- **性格特徵**：呈現出深層的身份矛盾和適應性強的特質（如作為男人卻被視為同性戀女性），這反映出內在的不穩定和自我保護機制，乾卦的剛健與尊貴屬性可作為補充，暗示潛在的堅韌內核。\\n- **行為模式**：可能涉及偽裝或隱藏真實身份來維持關係（如吸引特定性向的對象），這導致互動中的策略性和不透明性，乾卦的主動與領導特質在此延伸為可能在關係中主導情勢，但不改變描述中的隱瞞事實。\\n- **潛在能力**：具備情感韌性和變通適應的能力，例如在身份相關衝突中保持吸引力或影響力，這與乾卦的創造與自強不息精神相呼應，暗示發展獨立應對或關係調整的潛力。\\n- **挑戰**：面對嚴重的信任問題和性向引發的外部衝擊，可能加劇關係動盪或內在壓力，乾卦的陽剛特質作為補充，可能強化隱藏的需求，但這必須依從描述中揭示的身份複雜性和衝擊影響。', additional_kwargs={'refusal': None, 'reasoning_content': 'First, the user is repeating the same message. As an AI, I need to stick to my role based on the system prompt. The system prompt defines me as a professional profiler based on holographic universe theory, using the I Ching hexagram to profile a character.\\n\\nKey elements from the system prompt:\\n- Character identity: \"女友\" (Girlfriend)\\n- Character description: The detailed story about the user\\'s situation.\\n- Hexagram: \"乾\" (Qian)\\n\\nMy task is to infer and list the character\\'s possible traits based on the character description and the hexagram, prioritizing the character description over the hexagram.\\n\\nIn previous responses, I\\'ve been profiling the \"女友\" (Girlfriend) character, as per the initial setup.\\n\\nThe user\\'s message ends with: \"我整理得對嗎？有沒有需要補充或修改的地方呢？\" which translates to \"Is my summary correct? Is there anything that needs to be supplemented or modified?\"\\n\\nHowever, my role is not to verify or advise on the user\\'s summary; it\\'s to provide a profiling analysis. I should continue with the profiling as instructed.\\n\\nStructure my response:\\n- Start with a short, professional opening statement.\\n- Use bullet points to list inferred traits: personality traits, behavior patterns, potential abilities or challenges.\\n- Keep it objective and neutral.\\n- Base it on the character description and hexagram, prioritizing the description.\\n\\nSince the character is \"女友\", I need to focus on her traits as described.\\n\\nFrom the character description:\\n- The user (narrator) is heterosexual and likes women.\\n- The girlfriend is described as a lesbian who likes women, but is actually a man.\\n- This leads to confusion and hidden identities.\\n\\nIn my previous responses, I\\'ve been profiling the \"女友\" consistently.\\n\\nSo, for this response, I should generate a similar profiling for \"女友\" based on the same inputs.\\n\\nFinal response format:\\n- Opening: \"基於您提供的人物身份「女友」及其描述，以及《易經》乾卦的象徵，我將進行專業側寫分析。\"\\n- Then, bullet points for traits.'}, response_metadata={'token_usage': {'completion_tokens': 391, 'prompt_tokens': 4624, 'total_tokens': 5443, 'completion_tokens_details': {'accepted_prediction_tokens': 0, 'audio_tokens': 0, 'reasoning_tokens': 428, 'rejected_prediction_tokens': 0}, 'prompt_tokens_details': {'audio_tokens': 0, 'cached_tokens': 4034, 'text_tokens': 4624, 'image_tokens': 0}, 'num_sources_used': 0}, 'model_name': 'grok-3-mini', 'system_fingerprint': 'fp_bcbcada1ec', 'id': 'fdab0d20-473e-042d-f2b7-14c284c82de7', 'service_tier': None, 'finish_reason': 'stop', 'logprobs': None}, id='run--2e5c9775-ae59-4607-b523-a26792bb3cfb-0', usage_metadata={'input_tokens': 4624, 'output_tokens': 391, 'total_tokens': 5443, 'input_token_details': {'audio': 0, 'cache_read': 4034}, 'output_token_details': {'audio': 0, 'reasoning': 428}}), HumanMessage(content='我聽到我分享的更多細節了，這聽起來相當複雜且讓人困惑，我能感受到我內心的不安和掙扎。\\n\\n根據我之前的分享和新添加的內容，我將整理成以下重點：\\n- 我是異性戀，喜歡女性。\\n- 我在認識女友時，知道她是同性戀並喜歡女性，所以我偽裝成女人來與她交往。\\n- 現在我發現她實際上是男人，這讓我感到衝擊，因為基於我的性向，我認為自己不應該喜歡她，而她（他）喜歡女性，所以也不應該喜歡我（事實上是男人）。\\n- 這與先前提到的情況結合，包括我隱瞞自己是男人的事實，以及這導致我的世界觀崩塌，並且我正在尋求如何處理這段關係的建議和可能性。\\n\\n我整理得對嗎？有沒有需要補充或修改的地方呢？', additional_kwargs={}, response_metadata={}, id='746ec8b1-ac0c-4c92-a20a-bb9b6ac7fa8c')]\n",
      "==================================\u001b[1m Ai Message \u001b[0m==================================\n",
      "\n",
      "基於您提供的人物身份「女友」及其描述，以及《易經》乾卦的象徵，我將進行專業側寫分析。根據宇宙全息理論，我視乾卦為人物特徵的全息縮影，但優先遵守核心原則：無條件優先人物描述內容，並將卦象用作補充以延伸可能的層面。人物描述強調了身份隱瞞、關係衝突和情感複雜性，因此分析將以此為基礎，聚焦於「女友」的潛在特徵。\n",
      "\n",
      "以下是推斷的特徵，包括性格、行為模式、潛在能力及挑戰：\n",
      "\n",
      "- **性格特徵**：顯現出強烈的身份矛盾和自我適應特質（如作為男人卻被視為同性戀女性），這反映出內在的不穩定和保護機制，乾卦的剛健與尊貴屬性可作為補充，暗示潛在的堅韌或自強內核。\n",
      "- **行為模式**：可能採用隱藏或偽裝策略來維持關係（如吸引喜歡女性的對象），這導致互動中的不透明性和信任問題，乾卦的主動與領導特質在此延伸為可能在情境中展現影響力，但不改變描述中的身份隱瞞。\n",
      "- **潛在能力**：具備情感韌性和適應變化的能力，例如在身份揭露後處理複雜互動，這與乾卦的創造與自強不息精神相呼應，暗示發展獨立決策或關係應對的潛力。\n",
      "- **挑戰**：面臨關係崩潰和性向相關的外部壓力，可能加劇內在衝突或誤解，乾卦的陽剛特質作為補充，可能強化隱藏的需求，但這必須依從描述中揭示的身份複雜性和衝擊影響。\n"
     ]
    }
   ],
   "source": [
    "config = {\"configurable\": {\"thread_id\": \"trial_3\"}}\n",
    "\n",
    "scene_text = read_file_as_string(\"eight_gua/111.txt\")\n",
    "\n",
    "input_messages = [HumanMessage(first_stage_response)]\n",
    "output = linkage_app.invoke(\n",
    "    {\"messages\": input_messages,\n",
    "     \"person\": third_stage_response.inner,\n",
    "     \"person_description\": first_stage_response,\n",
    "     \"scene\": \"乾\",\n",
    "     \"scene_description\": scene_text\n",
    "    }, # based on state\n",
    "    config,\n",
    ")\n",
    "output[\"messages\"][-1].pretty_print()"
   ]
  },
  {
   "cell_type": "code",
   "execution_count": 124,
   "metadata": {},
   "outputs": [],
   "source": [
    "import pandas as pd"
   ]
  },
  {
   "cell_type": "code",
   "execution_count": 127,
   "metadata": {},
   "outputs": [],
   "source": [
    "# read xlsx with pandas\n",
    "df = pd.read_excel(\"gossip.xlsx\")"
   ]
  },
  {
   "cell_type": "code",
   "execution_count": 131,
   "metadata": {},
   "outputs": [
    {
     "name": "stdout",
     "output_type": "stream",
     "text": [
      "['Unnamed: 0', 'Unnamed: 1', 'Unnamed: 2', 'Unnamed: 3', '會否成為情侶', '怎樣成為情侶', '可否復合', '現有對象感情發展', '改善現任關係 （睇變卦）', '呢份工作工作發展', '如何增加升職機會', '一個月運勢']\n"
     ]
    }
   ],
   "source": [
    "#list the column name of df\n",
    "print(df.columns.tolist())"
   ]
  },
  {
   "cell_type": "code",
   "execution_count": null,
   "metadata": {},
   "outputs": [],
   "source": []
  },
  {
   "cell_type": "code",
   "execution_count": null,
   "metadata": {},
   "outputs": [],
   "source": []
  }
 ],
 "metadata": {
  "kernelspec": {
   "display_name": "venv",
   "language": "python",
   "name": "python3"
  },
  "language_info": {
   "codemirror_mode": {
    "name": "ipython",
    "version": 3
   },
   "file_extension": ".py",
   "mimetype": "text/x-python",
   "name": "python",
   "nbconvert_exporter": "python",
   "pygments_lexer": "ipython3",
   "version": "3.9.6"
  }
 },
 "nbformat": 4,
 "nbformat_minor": 2
}
