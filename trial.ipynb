{
 "cells": [
  {
   "cell_type": "code",
   "execution_count": null,
   "metadata": {},
   "outputs": [
    {
     "name": "stdout",
     "output_type": "stream",
     "text": [
      "聽起來你對目前的工作狀況感到相當挫折。讓我們一起來探索看看，這種沮喪的感覺是怎麼影響你的？\n",
      "\n",
      "當你提到「工作還未有進展」時，具體來說是什麼樣的情況讓你特別感到困擾呢？是某些特定的任務卡住了，還是整體的工作方向讓你感到迷茫？\n",
      "\n",
      "我注意到你用了「沮喪」這個詞，能不能多描述一下這種情緒對你的影響？比如說，它是否影響了你對自己能力的看法？或是改變"
     ]
    }
   ],
   "source": [
    "from langchain_deepseek import ChatDeepSeek\n",
    "\n",
    "llm = ChatDeepSeek(\n",
    "    model=\"deepseek-chat\",\n",
    "    temperature=0,\n",
    "    max_tokens=100,\n",
    "    timeout=None,\n",
    "    max_retries=2,\n",
    "    api_key=\"sk-759095832b10449ca245aac3770c4846\"\n",
    ")\n",
    "\n",
    "messages = [\n",
    "    (\"system\", \"你是一名諮商心理師. 你會協助別人釐清問題, 但你不需要提供建議\"),\n",
    "    (\"user\", \"我的工作還未有進展. 我感到很沮喪. \"),\n",
    "]\n",
    "\n",
    "for chunk in llm.stream(messages):\n",
    "    print(chunk.text(), end=\"\")"
   ]
  },
  {
   "cell_type": "code",
   "execution_count": 18,
   "metadata": {},
   "outputs": [],
   "source": [
    "from langchain_core.prompts import ChatPromptTemplate\n",
    "from langchain_openai import ChatOpenAI\n",
    "from pydantic import BaseModel, Field\n",
    "\n",
    "tagging_prompt = ChatPromptTemplate.from_template(\n",
    "    \"\"\"\n",
    "從以下段落中提取所需資訊。\n",
    "\n",
    "僅提取「Classification」功能中提到的properties。\n",
    "\n",
    "段落：\n",
    "{input}\n",
    "\"\"\"\n",
    ")\n",
    "\n",
    "class Classification(BaseModel):\n",
    "    user_problem_class: str = Field(description=\"判斷用戶輸入的問題屬於哪一個類別\", enum=[\"愛情\", \"事業\", \"學業\", \"家庭\", \"健康\", \"人際關係\", \"其他\"]\n",
    ")\n",
    "\n",
    "# Structured LLM\n",
    "structured_llm = llm.with_structured_output(Classification)\n"
   ]
  },
  {
   "cell_type": "code",
   "execution_count": 19,
   "metadata": {},
   "outputs": [
    {
     "data": {
      "text/plain": [
       "Classification(user_problem_class='人際關係')"
      ]
     },
     "execution_count": 19,
     "metadata": {},
     "output_type": "execute_result"
    }
   ],
   "source": [
    "#inp = \"我最近發現交往一年的女友竟然是男人…整個世界觀崩塌了，我該怎麼辦？這段關係還有可能嗎？\"\n",
    "inp = \"我最近发现我的上司是同性恋，这让我有点不知所措… 我不知道该怎么面对他，以后的工作会不会受影响？我应该保持距离吗？\"\n",
    "prompt = tagging_prompt.invoke({\"input\": inp})\n",
    "response = structured_llm.invoke(prompt)\n",
    "\n",
    "response"
   ]
  },
  {
   "cell_type": "code",
   "execution_count": 20,
   "metadata": {},
   "outputs": [
    {
     "data": {
      "text/plain": [
       "{'user_problem_class': '人際關係'}"
      ]
     },
     "execution_count": 20,
     "metadata": {},
     "output_type": "execute_result"
    }
   ],
   "source": [
    "response.model_dump()"
   ]
  },
  {
   "cell_type": "code",
   "execution_count": null,
   "metadata": {},
   "outputs": [],
   "source": []
  }
 ],
 "metadata": {
  "kernelspec": {
   "display_name": "venv",
   "language": "python",
   "name": "python3"
  },
  "language_info": {
   "codemirror_mode": {
    "name": "ipython",
    "version": 3
   },
   "file_extension": ".py",
   "mimetype": "text/x-python",
   "name": "python",
   "nbconvert_exporter": "python",
   "pygments_lexer": "ipython3",
   "version": "3.9.6"
  }
 },
 "nbformat": 4,
 "nbformat_minor": 2
}
